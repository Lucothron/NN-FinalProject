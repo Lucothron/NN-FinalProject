{
 "cells": [
  {
   "cell_type": "markdown",
   "id": "4b36decd",
   "metadata": {},
   "source": [
    "# Group Project CE889 (Group 8)"
   ]
  },
  {
   "cell_type": "markdown",
   "id": "de6057aa",
   "metadata": {},
   "source": [
    "# Rossmann Store Sales Prediction"
   ]
  },
  {
   "cell_type": "markdown",
   "id": "7c06c3b8",
   "metadata": {},
   "source": [
    "# Data Pre-Processing and Visualization"
   ]
  },
  {
   "cell_type": "code",
   "execution_count": 130,
   "id": "62a45dbd",
   "metadata": {},
   "outputs": [],
   "source": [
    "import pandas as pd\n",
    "import matplotlib.pyplot as plt\n",
    "import numpy as np\n",
    "import seaborn as sns\n",
    "import scipy.stats as stats\n"
   ]
  },
  {
   "cell_type": "markdown",
   "id": "7cdf3021",
   "metadata": {},
   "source": [
    "# Read CSV Files"
   ]
  },
  {
   "cell_type": "code",
   "execution_count": 131,
   "id": "44abad03",
   "metadata": {},
   "outputs": [],
   "source": [
    "train = pd.read_csv(\"train.csv\", sep=',', parse_dates=['Date'],\n",
    "                    dtype={'StateHoliday': str, 'SchoolHoliday':str})\n",
    "\n",
    "test = pd.read_csv(\"test.csv\", sep=\",\", index_col = 'Id', parse_dates=['Date'],\n",
    "                  dtype={'StateHoliday': str, 'SchoolHoliday':str})\n",
    "\n",
    "store = pd.read_csv(\"store.csv\", sep=\",\", dtype={'StoreType': str,\n",
    "                                                      'Assortment': str,\n",
    "                                                      'PromoInterval': str})"
   ]
  },
  {
   "cell_type": "markdown",
   "id": "97808f3b",
   "metadata": {},
   "source": [
    "# Train Dataset Preprocessing"
   ]
  },
  {
   "cell_type": "code",
   "execution_count": 132,
   "id": "25a69a63",
   "metadata": {},
   "outputs": [
    {
     "name": "stdout",
     "output_type": "stream",
     "text": [
      "   Store  DayOfWeek       Date  Sales  Customers  Open  Promo StateHoliday  \\\n",
      "0      1          5 2015-07-31   5263        555     1      1            0   \n",
      "1      2          5 2015-07-31   6064        625     1      1            0   \n",
      "2      3          5 2015-07-31   8314        821     1      1            0   \n",
      "3      4          5 2015-07-31  13995       1498     1      1            0   \n",
      "4      5          5 2015-07-31   4822        559     1      1            0   \n",
      "\n",
      "  SchoolHoliday  \n",
      "0             1  \n",
      "1             1  \n",
      "2             1  \n",
      "3             1  \n",
      "4             1  \n"
     ]
    }
   ],
   "source": [
    "print(train.head())"
   ]
  },
  {
   "cell_type": "code",
   "execution_count": 133,
   "id": "d6296c69",
   "metadata": {},
   "outputs": [
    {
     "name": "stdout",
     "output_type": "stream",
     "text": [
      "(1017209, 9)\n"
     ]
    }
   ],
   "source": [
    "print(train.shape)"
   ]
  },
  {
   "cell_type": "code",
   "execution_count": 134,
   "id": "0a62b124",
   "metadata": {},
   "outputs": [
    {
     "name": "stdout",
     "output_type": "stream",
     "text": [
      "              Store     DayOfWeek         Sales     Customers          Open  \\\n",
      "count  1.017209e+06  1.017209e+06  1.017209e+06  1.017209e+06  1.017209e+06   \n",
      "mean   5.584297e+02  3.998341e+00  5.773819e+03  6.331459e+02  8.301067e-01   \n",
      "std    3.219087e+02  1.997391e+00  3.849926e+03  4.644117e+02  3.755392e-01   \n",
      "min    1.000000e+00  1.000000e+00  0.000000e+00  0.000000e+00  0.000000e+00   \n",
      "25%    2.800000e+02  2.000000e+00  3.727000e+03  4.050000e+02  1.000000e+00   \n",
      "50%    5.580000e+02  4.000000e+00  5.744000e+03  6.090000e+02  1.000000e+00   \n",
      "75%    8.380000e+02  6.000000e+00  7.856000e+03  8.370000e+02  1.000000e+00   \n",
      "max    1.115000e+03  7.000000e+00  4.155100e+04  7.388000e+03  1.000000e+00   \n",
      "\n",
      "              Promo  \n",
      "count  1.017209e+06  \n",
      "mean   3.815145e-01  \n",
      "std    4.857586e-01  \n",
      "min    0.000000e+00  \n",
      "25%    0.000000e+00  \n",
      "50%    0.000000e+00  \n",
      "75%    1.000000e+00  \n",
      "max    1.000000e+00  \n"
     ]
    }
   ],
   "source": [
    "print(train.describe())"
   ]
  },
  {
   "cell_type": "markdown",
   "id": "20f6505d",
   "metadata": {},
   "source": [
    "# Check missing values"
   ]
  },
  {
   "cell_type": "code",
   "execution_count": 135,
   "id": "0bbdbedb",
   "metadata": {},
   "outputs": [
    {
     "data": {
      "text/plain": [
       "Store            0\n",
       "DayOfWeek        0\n",
       "Date             0\n",
       "Sales            0\n",
       "Customers        0\n",
       "Open             0\n",
       "Promo            0\n",
       "StateHoliday     0\n",
       "SchoolHoliday    0\n",
       "dtype: int64"
      ]
     },
     "execution_count": 135,
     "metadata": {},
     "output_type": "execute_result"
    }
   ],
   "source": [
    "missing = train.isnull().sum()\n",
    "missing.sort_values(ascending=False)"
   ]
  },
  {
   "cell_type": "code",
   "execution_count": 136,
   "id": "039d69d2",
   "metadata": {},
   "outputs": [
    {
     "name": "stdout",
     "output_type": "stream",
     "text": [
      "         Store  DayOfWeek       Date  Sales  Customers  Open  Promo  \\\n",
      "1017204   1111          2 2013-01-01      0          0     0      0   \n",
      "1017205   1112          2 2013-01-01      0          0     0      0   \n",
      "1017206   1113          2 2013-01-01      0          0     0      0   \n",
      "1017207   1114          2 2013-01-01      0          0     0      0   \n",
      "1017208   1115          2 2013-01-01      0          0     0      0   \n",
      "\n",
      "        StateHoliday SchoolHoliday  \n",
      "1017204            a             1  \n",
      "1017205            a             1  \n",
      "1017206            a             1  \n",
      "1017207            a             1  \n",
      "1017208            a             1  \n"
     ]
    }
   ],
   "source": [
    "print(train.tail())"
   ]
  },
  {
   "cell_type": "code",
   "execution_count": 137,
   "id": "02d4446f",
   "metadata": {},
   "outputs": [],
   "source": [
    "#year and month column to analyise seasonal effects on sales\n",
    "train['Year'] = pd.DatetimeIndex(train['Date']).year\n",
    "train['Month'] = pd.DatetimeIndex(train['Date']).month"
   ]
  },
  {
   "cell_type": "code",
   "execution_count": 138,
   "id": "16924a5b",
   "metadata": {},
   "outputs": [
    {
     "data": {
      "text/plain": [
       "['Store',\n",
       " 'DayOfWeek',\n",
       " 'Date',\n",
       " 'Year',\n",
       " 'Month',\n",
       " 'Customers',\n",
       " 'Open',\n",
       " 'Promo',\n",
       " 'StateHoliday',\n",
       " 'SchoolHoliday',\n",
       " 'Sales']"
      ]
     },
     "execution_count": 138,
     "metadata": {},
     "output_type": "execute_result"
    }
   ],
   "source": [
    "train = train[['Store', 'DayOfWeek', 'Date', 'Year', 'Month', 'Customers', 'Open',\n",
    "               'Promo', 'StateHoliday', 'SchoolHoliday', 'Sales']]\n",
    "list(train.columns.values)"
   ]
  },
  {
   "cell_type": "code",
   "execution_count": 139,
   "id": "1c55e893",
   "metadata": {},
   "outputs": [
    {
     "name": "stdout",
     "output_type": "stream",
     "text": [
      "Store                     int64\n",
      "DayOfWeek                 int64\n",
      "Date             datetime64[ns]\n",
      "Year                      int64\n",
      "Month                     int64\n",
      "Customers                 int64\n",
      "Open                      int64\n",
      "Promo                     int64\n",
      "StateHoliday             object\n",
      "SchoolHoliday            object\n",
      "Sales                     int64\n",
      "dtype: object\n"
     ]
    }
   ],
   "source": [
    "print(train.dtypes)"
   ]
  },
  {
   "cell_type": "markdown",
   "id": "29062729",
   "metadata": {},
   "source": [
    "# explore these objects"
   ]
  },
  {
   "cell_type": "code",
   "execution_count": 140,
   "id": "9308caa3",
   "metadata": {},
   "outputs": [
    {
     "data": {
      "text/plain": [
       "array(['0', 'a', 'b', 'c'], dtype=object)"
      ]
     },
     "execution_count": 140,
     "metadata": {},
     "output_type": "execute_result"
    }
   ],
   "source": [
    "train['StateHoliday'].unique()"
   ]
  },
  {
   "cell_type": "code",
   "execution_count": 141,
   "id": "e6a3f8e2",
   "metadata": {},
   "outputs": [
    {
     "name": "stdout",
     "output_type": "stream",
     "text": [
      "levels : [0 1 2 3] ; data type : int64\n"
     ]
    }
   ],
   "source": [
    "train.loc[train['StateHoliday'] == '0', 'StateHoliday'] = 0\n",
    "train.loc[train['StateHoliday'] == 'a', 'StateHoliday'] = 1\n",
    "train.loc[train['StateHoliday'] == 'b', 'StateHoliday'] = 2\n",
    "train.loc[train['StateHoliday'] == 'c', 'StateHoliday'] = 3\n",
    "train['StateHoliday'] = train['StateHoliday'].astype(int, copy=False)\n",
    "print('levels :', train['StateHoliday'].unique(), '; data type :', train['StateHoliday'].dtype)"
   ]
  },
  {
   "cell_type": "code",
   "execution_count": 142,
   "id": "0a137fe8",
   "metadata": {},
   "outputs": [
    {
     "name": "stdout",
     "output_type": "stream",
     "text": [
      "levels : [1 0] ; data type : int64\n"
     ]
    }
   ],
   "source": [
    "train.loc[train['SchoolHoliday'] == '0', 'SchoolHoliday'] = 0\n",
    "train.loc[train['SchoolHoliday'] == '1', 'SchoolHoliday'] = 1\n",
    "train['SchoolHoliday'] = train['SchoolHoliday'].astype(int, copy=False)\n",
    "print('levels :', train['SchoolHoliday'].unique(), '; data type :', train['SchoolHoliday'].dtype)"
   ]
  },
  {
   "cell_type": "code",
   "execution_count": 143,
   "id": "b8da9cec",
   "metadata": {},
   "outputs": [
    {
     "name": "stdout",
     "output_type": "stream",
     "text": [
      "              Store     DayOfWeek          Year         Month     Customers  \\\n",
      "count  1.017209e+06  1.017209e+06  1.017209e+06  1.017209e+06  1.017209e+06   \n",
      "mean   5.584297e+02  3.998341e+00  2.013832e+03  5.846762e+00  6.331459e+02   \n",
      "std    3.219087e+02  1.997391e+00  7.773960e-01  3.326097e+00  4.644117e+02   \n",
      "min    1.000000e+00  1.000000e+00  2.013000e+03  1.000000e+00  0.000000e+00   \n",
      "25%    2.800000e+02  2.000000e+00  2.013000e+03  3.000000e+00  4.050000e+02   \n",
      "50%    5.580000e+02  4.000000e+00  2.014000e+03  6.000000e+00  6.090000e+02   \n",
      "75%    8.380000e+02  6.000000e+00  2.014000e+03  8.000000e+00  8.370000e+02   \n",
      "max    1.115000e+03  7.000000e+00  2.015000e+03  1.200000e+01  7.388000e+03   \n",
      "\n",
      "               Open         Promo  StateHoliday  SchoolHoliday         Sales  \n",
      "count  1.017209e+06  1.017209e+06  1.017209e+06   1.017209e+06  1.017209e+06  \n",
      "mean   8.301067e-01  3.815145e-01  4.516279e-02   1.786467e-01  5.773819e+03  \n",
      "std    3.755392e-01  4.857586e-01  2.836559e-01   3.830564e-01  3.849926e+03  \n",
      "min    0.000000e+00  0.000000e+00  0.000000e+00   0.000000e+00  0.000000e+00  \n",
      "25%    1.000000e+00  0.000000e+00  0.000000e+00   0.000000e+00  3.727000e+03  \n",
      "50%    1.000000e+00  0.000000e+00  0.000000e+00   0.000000e+00  5.744000e+03  \n",
      "75%    1.000000e+00  1.000000e+00  0.000000e+00   0.000000e+00  7.856000e+03  \n",
      "max    1.000000e+00  1.000000e+00  3.000000e+00   1.000000e+00  4.155100e+04  \n"
     ]
    }
   ],
   "source": [
    "print(train.describe())"
   ]
  },
  {
   "cell_type": "code",
   "execution_count": 144,
   "id": "d78c5f56",
   "metadata": {},
   "outputs": [],
   "source": [
    "#NANs for selected columns"
   ]
  },
  {
   "cell_type": "code",
   "execution_count": 145,
   "id": "8235fa51",
   "metadata": {},
   "outputs": [
    {
     "name": "stdout",
     "output_type": "stream",
     "text": [
      "NANs for individual columns\n",
      "---------------------------\n"
     ]
    },
    {
     "data": {
      "text/plain": [
       "[('Store', 0),\n",
       " ('DayOfWeek', 0),\n",
       " ('Date', 0),\n",
       " ('Year', 0),\n",
       " ('Month', 0),\n",
       " ('Customers', 0),\n",
       " ('Open', 0),\n",
       " ('Promo', 0),\n",
       " ('StateHoliday', 0),\n",
       " ('SchoolHoliday', 0),\n",
       " ('Sales', 0)]"
      ]
     },
     "execution_count": 145,
     "metadata": {},
     "output_type": "execute_result"
    }
   ],
   "source": [
    "print(\"NANs for individual columns\")\n",
    "print(\"---------------------------\")\n",
    "from collections import Counter\n",
    "x = {colname : train[colname].isnull().sum() for colname in train.columns}\n",
    "Counter(x).most_common()"
   ]
  },
  {
   "cell_type": "markdown",
   "id": "fcf5a7c9",
   "metadata": {},
   "source": [
    "# Pairwise correlation of columns and visulization"
   ]
  },
  {
   "cell_type": "code",
   "execution_count": 146,
   "id": "f9e64a07",
   "metadata": {},
   "outputs": [
    {
     "name": "stdout",
     "output_type": "stream",
     "text": [
      "               DayOfWeek     Sales     Month      Year  Customers     Promo  \\\n",
      "DayOfWeek       1.000000 -0.462125 -0.005362  0.001937  -0.386445 -0.392925   \n",
      "Sales          -0.462125  1.000000  0.048768  0.023519   0.894711  0.452345   \n",
      "Month          -0.005362  0.048768  1.000000 -0.269382   0.038179 -0.011747   \n",
      "Year            0.001937  0.023519 -0.269382  1.000000  -0.001212  0.024300   \n",
      "Customers      -0.386445  0.894711  0.038179 -0.001212   1.000000  0.316169   \n",
      "Promo          -0.392925  0.452345 -0.011747  0.024300   0.316169  1.000000   \n",
      "StateHoliday   -0.044265 -0.229029  0.038058 -0.005067  -0.204295 -0.024157   \n",
      "SchoolHoliday  -0.205388  0.085124  0.103282 -0.036535   0.071568  0.067483   \n",
      "\n",
      "               StateHoliday  SchoolHoliday  \n",
      "DayOfWeek         -0.044265      -0.205388  \n",
      "Sales             -0.229029       0.085124  \n",
      "Month              0.038058       0.103282  \n",
      "Year              -0.005067      -0.036535  \n",
      "Customers         -0.204295       0.071568  \n",
      "Promo             -0.024157       0.067483  \n",
      "StateHoliday       1.000000       0.196424  \n",
      "SchoolHoliday      0.196424       1.000000  \n"
     ]
    }
   ],
   "source": [
    "corMat = pd.DataFrame(train.loc[:, ['DayOfWeek', 'Sales', 'Month', 'Year', 'Customers', 'Promo',\n",
    "                                    'StateHoliday', 'SchoolHoliday']].corr())\n",
    "print(corMat)"
   ]
  },
  {
   "cell_type": "code",
   "execution_count": 147,
   "id": "772af7f1",
   "metadata": {},
   "outputs": [
    {
     "data": {
      "image/png": "[encoded data removed]",
      "text/plain": [
       "<Figure size 432x288 with 2 Axes>"
      ]
     },
     "metadata": {
      "needs_background": "light"
     },
     "output_type": "display_data"
    }
   ],
   "source": [
    "sns.heatmap(data=corMat)\n",
    "plt.show()"
   ]
  },
  {
   "cell_type": "markdown",
   "id": "f217baac",
   "metadata": {},
   "source": [
    "# Training Dataset Processing"
   ]
  },
  {
   "cell_type": "code",
   "execution_count": 148,
   "id": "9c616175",
   "metadata": {},
   "outputs": [
    {
     "name": "stdout",
     "output_type": "stream",
     "text": [
      "(41088, 7)\n"
     ]
    }
   ],
   "source": [
    "print(test.shape)"
   ]
  },
  {
   "cell_type": "code",
   "execution_count": 149,
   "id": "56951d31",
   "metadata": {},
   "outputs": [],
   "source": [
    "test['Year'] = pd.DatetimeIndex(test['Date']).year\n",
    "test['Month'] = pd.DatetimeIndex(test['Date']).month"
   ]
  },
  {
   "cell_type": "code",
   "execution_count": 150,
   "id": "feab204b",
   "metadata": {},
   "outputs": [
    {
     "name": "stdout",
     "output_type": "stream",
     "text": [
      "    Store  DayOfWeek       Date  Open  Promo StateHoliday SchoolHoliday  Year  \\\n",
      "Id                                                                              \n",
      "1       1          4 2015-09-17   1.0      1            0             0  2015   \n",
      "2       3          4 2015-09-17   1.0      1            0             0  2015   \n",
      "3       7          4 2015-09-17   1.0      1            0             0  2015   \n",
      "4       8          4 2015-09-17   1.0      1            0             0  2015   \n",
      "5       9          4 2015-09-17   1.0      1            0             0  2015   \n",
      "\n",
      "    Month  \n",
      "Id         \n",
      "1       9  \n",
      "2       9  \n",
      "3       9  \n",
      "4       9  \n",
      "5       9  \n"
     ]
    }
   ],
   "source": [
    "#Overview of test set\n",
    "print(test.head())"
   ]
  },
  {
   "cell_type": "code",
   "execution_count": 151,
   "id": "9eee1d25",
   "metadata": {},
   "outputs": [
    {
     "data": {
      "text/plain": [
       "['Store',\n",
       " 'DayOfWeek',\n",
       " 'Date',\n",
       " 'Year',\n",
       " 'Month',\n",
       " 'Open',\n",
       " 'Promo',\n",
       " 'StateHoliday',\n",
       " 'SchoolHoliday']"
      ]
     },
     "execution_count": 151,
     "metadata": {},
     "output_type": "execute_result"
    }
   ],
   "source": [
    "test = test[['Store', 'DayOfWeek', 'Date', 'Year', 'Month', 'Open',\n",
    "             'Promo', 'StateHoliday', 'SchoolHoliday']]\n",
    "list(test.columns.values)"
   ]
  },
  {
   "cell_type": "markdown",
   "id": "ef832c64",
   "metadata": {},
   "source": [
    "# check the missing values"
   ]
  },
  {
   "cell_type": "code",
   "execution_count": 152,
   "id": "e3dbe650",
   "metadata": {},
   "outputs": [
    {
     "name": "stdout",
     "output_type": "stream",
     "text": [
      "NANs for individual columns\n",
      "---------------------------\n"
     ]
    },
    {
     "data": {
      "text/plain": [
       "[('Open', 11),\n",
       " ('Store', 0),\n",
       " ('DayOfWeek', 0),\n",
       " ('Date', 0),\n",
       " ('Year', 0),\n",
       " ('Month', 0),\n",
       " ('Promo', 0),\n",
       " ('StateHoliday', 0),\n",
       " ('SchoolHoliday', 0)]"
      ]
     },
     "execution_count": 152,
     "metadata": {},
     "output_type": "execute_result"
    }
   ],
   "source": [
    "print(\"NANs for individual columns\")\n",
    "print(\"---------------------------\")\n",
    "from collections import Counter\n",
    "x = {colname : test[colname].isnull().sum() for colname in test.columns}\n",
    "Counter(x).most_common()"
   ]
  },
  {
   "cell_type": "code",
   "execution_count": 153,
   "id": "cc877a1b",
   "metadata": {},
   "outputs": [
    {
     "name": "stdout",
     "output_type": "stream",
     "text": [
      "       Store  DayOfWeek       Date  Year  Month  Open  Promo StateHoliday  \\\n",
      "Id                                                                          \n",
      "480      622          4 2015-09-17  2015      9   NaN      1            0   \n",
      "1336     622          3 2015-09-16  2015      9   NaN      1            0   \n",
      "2192     622          2 2015-09-15  2015      9   NaN      1            0   \n",
      "3048     622          1 2015-09-14  2015      9   NaN      1            0   \n",
      "4760     622          6 2015-09-12  2015      9   NaN      0            0   \n",
      "5616     622          5 2015-09-11  2015      9   NaN      0            0   \n",
      "6472     622          4 2015-09-10  2015      9   NaN      0            0   \n",
      "7328     622          3 2015-09-09  2015      9   NaN      0            0   \n",
      "8184     622          2 2015-09-08  2015      9   NaN      0            0   \n",
      "9040     622          1 2015-09-07  2015      9   NaN      0            0   \n",
      "10752    622          6 2015-09-05  2015      9   NaN      0            0   \n",
      "\n",
      "      SchoolHoliday  \n",
      "Id                   \n",
      "480               0  \n",
      "1336              0  \n",
      "2192              0  \n",
      "3048              0  \n",
      "4760              0  \n",
      "5616              0  \n",
      "6472              0  \n",
      "7328              0  \n",
      "8184              0  \n",
      "9040              0  \n",
      "10752             0  \n"
     ]
    }
   ],
   "source": [
    "#there are 11 missing values of open field\n",
    "print(test.loc[np.isnan(test['Open'])])"
   ]
  },
  {
   "cell_type": "code",
   "execution_count": 154,
   "id": "efe9eea7",
   "metadata": {},
   "outputs": [],
   "source": [
    "#check this store in train dataset"
   ]
  },
  {
   "cell_type": "code",
   "execution_count": 155,
   "id": "043ac3ed",
   "metadata": {},
   "outputs": [
    {
     "name": "stdout",
     "output_type": "stream",
     "text": [
      "      Store  DayOfWeek       Date  Year  Month  Customers  Open  Promo  \\\n",
      "621     622          5 2015-07-31  2015      7        540     1      1   \n",
      "1736    622          4 2015-07-30  2015      7        406     1      1   \n",
      "2851    622          3 2015-07-29  2015      7        468     1      1   \n",
      "3966    622          2 2015-07-28  2015      7        417     1      1   \n",
      "5081    622          1 2015-07-27  2015      7        517     1      1   \n",
      "\n",
      "      StateHoliday  SchoolHoliday  Sales  \n",
      "621              0              1   6306  \n",
      "1736             0              1   5412  \n",
      "2851             0              1   5326  \n",
      "3966             0              1   4966  \n",
      "5081             0              1   5413  \n"
     ]
    }
   ],
   "source": [
    "print(train.loc[train['Store'] == 622].head())\n"
   ]
  },
  {
   "cell_type": "code",
   "execution_count": 156,
   "id": "bfc75b83",
   "metadata": {},
   "outputs": [],
   "source": [
    "#label missing values of open with 1 in test set"
   ]
  },
  {
   "cell_type": "code",
   "execution_count": 157,
   "id": "535509a6",
   "metadata": {},
   "outputs": [],
   "source": [
    "test.loc[np.isnan(test['Open']), 'Open'] = 1"
   ]
  },
  {
   "cell_type": "code",
   "execution_count": 158,
   "id": "0ae657be",
   "metadata": {},
   "outputs": [],
   "source": [
    "#check if there is any missing value left"
   ]
  },
  {
   "cell_type": "code",
   "execution_count": 159,
   "id": "1d6ac577",
   "metadata": {},
   "outputs": [
    {
     "name": "stdout",
     "output_type": "stream",
     "text": [
      "NANs for individual columns\n",
      "---------------------------\n"
     ]
    },
    {
     "data": {
      "text/plain": [
       "[('Store', 0),\n",
       " ('DayOfWeek', 0),\n",
       " ('Date', 0),\n",
       " ('Year', 0),\n",
       " ('Month', 0),\n",
       " ('Open', 0),\n",
       " ('Promo', 0),\n",
       " ('StateHoliday', 0),\n",
       " ('SchoolHoliday', 0)]"
      ]
     },
     "execution_count": 159,
     "metadata": {},
     "output_type": "execute_result"
    }
   ],
   "source": [
    "print(\"NANs for individual columns\")\n",
    "print(\"---------------------------\")\n",
    "from collections import Counter\n",
    "x = {colname : test[colname].isnull().sum() for colname in test.columns}\n",
    "Counter(x).most_common()"
   ]
  },
  {
   "cell_type": "code",
   "execution_count": 160,
   "id": "73f14eef",
   "metadata": {},
   "outputs": [
    {
     "name": "stdout",
     "output_type": "stream",
     "text": [
      "Store                     int64\n",
      "DayOfWeek                 int64\n",
      "Date             datetime64[ns]\n",
      "Year                      int64\n",
      "Month                     int64\n",
      "Open                    float64\n",
      "Promo                     int64\n",
      "StateHoliday             object\n",
      "SchoolHoliday            object\n",
      "dtype: object\n"
     ]
    }
   ],
   "source": [
    "print(test.dtypes)"
   ]
  },
  {
   "cell_type": "code",
   "execution_count": 161,
   "id": "7a4aafd1",
   "metadata": {},
   "outputs": [],
   "source": [
    "#change the datatypes of objects to int"
   ]
  },
  {
   "cell_type": "code",
   "execution_count": 162,
   "id": "e40e0381",
   "metadata": {},
   "outputs": [
    {
     "name": "stdout",
     "output_type": "stream",
     "text": [
      "levels : [0 1] ; data type : int64\n"
     ]
    }
   ],
   "source": [
    "test.loc[test['StateHoliday'] == '0', 'StateHoliday'] = 0\n",
    "test.loc[test['StateHoliday'] == 'a', 'StateHoliday'] = 1\n",
    "test['StateHoliday'] = test['StateHoliday'].astype(int, copy=False)\n",
    "print('levels :', test['StateHoliday'].unique(), '; data type :', test['StateHoliday'].dtype)"
   ]
  },
  {
   "cell_type": "code",
   "execution_count": 163,
   "id": "3aac537f",
   "metadata": {},
   "outputs": [
    {
     "name": "stdout",
     "output_type": "stream",
     "text": [
      "levels : [0 1] ; data type : int64\n"
     ]
    }
   ],
   "source": [
    "test.loc[test['SchoolHoliday'] == '0', 'SchoolHoliday'] = 0\n",
    "test.loc[test['SchoolHoliday'] == '1', 'SchoolHoliday'] = 1\n",
    "test['SchoolHoliday'] = test['SchoolHoliday'].astype(int, copy=False)\n",
    "print('levels :', test['SchoolHoliday'].unique(), '; data type :', test['SchoolHoliday'].dtype)"
   ]
  },
  {
   "cell_type": "code",
   "execution_count": 164,
   "id": "247fe6e5",
   "metadata": {},
   "outputs": [
    {
     "name": "stdout",
     "output_type": "stream",
     "text": [
      "Store                     int64\n",
      "DayOfWeek                 int64\n",
      "Date             datetime64[ns]\n",
      "Year                      int64\n",
      "Month                     int64\n",
      "Open                    float64\n",
      "Promo                     int64\n",
      "StateHoliday              int64\n",
      "SchoolHoliday             int64\n",
      "dtype: object\n"
     ]
    }
   ],
   "source": [
    "print(test.dtypes)"
   ]
  },
  {
   "cell_type": "code",
   "execution_count": 165,
   "id": "a7d93606",
   "metadata": {},
   "outputs": [],
   "source": [
    "#Because there are two types of stateholidays in test set but there are 4 types of \n",
    "#stateholidays in train so we delete other from train"
   ]
  },
  {
   "cell_type": "code",
   "execution_count": 166,
   "id": "739d7eac",
   "metadata": {},
   "outputs": [],
   "source": [
    "train = train.loc[train['StateHoliday'] < 2]"
   ]
  },
  {
   "cell_type": "code",
   "execution_count": 167,
   "id": "1e2fb5cd",
   "metadata": {},
   "outputs": [
    {
     "data": {
      "text/plain": [
       "(1006419, 11)"
      ]
     },
     "execution_count": 167,
     "metadata": {},
     "output_type": "execute_result"
    }
   ],
   "source": [
    "train.shape"
   ]
  },
  {
   "cell_type": "code",
   "execution_count": 168,
   "id": "899bdb24",
   "metadata": {},
   "outputs": [
    {
     "data": {
      "text/plain": [
       "(41088, 9)"
      ]
     },
     "execution_count": 168,
     "metadata": {},
     "output_type": "execute_result"
    }
   ],
   "source": [
    "test.shape"
   ]
  },
  {
   "cell_type": "markdown",
   "id": "b18f273d",
   "metadata": {},
   "source": [
    "# Store Dataset Preprocessing"
   ]
  },
  {
   "cell_type": "code",
   "execution_count": 169,
   "id": "35d74187",
   "metadata": {},
   "outputs": [
    {
     "data": {
      "text/plain": [
       "(1115, 10)"
      ]
     },
     "execution_count": 169,
     "metadata": {},
     "output_type": "execute_result"
    }
   ],
   "source": [
    "#lets check the shape of store dataset\n",
    "store.shape"
   ]
  },
  {
   "cell_type": "code",
   "execution_count": 170,
   "id": "79163fbf",
   "metadata": {},
   "outputs": [
    {
     "name": "stdout",
     "output_type": "stream",
     "text": [
      "   Store StoreType Assortment  CompetitionDistance  CompetitionOpenSinceMonth  \\\n",
      "0      1         c          a               1270.0                        9.0   \n",
      "1      2         a          a                570.0                       11.0   \n",
      "2      3         a          a              14130.0                       12.0   \n",
      "3      4         c          c                620.0                        9.0   \n",
      "4      5         a          a              29910.0                        4.0   \n",
      "\n",
      "   CompetitionOpenSinceYear  Promo2  Promo2SinceWeek  Promo2SinceYear  \\\n",
      "0                    2008.0       0              NaN              NaN   \n",
      "1                    2007.0       1             13.0           2010.0   \n",
      "2                    2006.0       1             14.0           2011.0   \n",
      "3                    2009.0       0              NaN              NaN   \n",
      "4                    2015.0       0              NaN              NaN   \n",
      "\n",
      "     PromoInterval  \n",
      "0              NaN  \n",
      "1  Jan,Apr,Jul,Oct  \n",
      "2  Jan,Apr,Jul,Oct  \n",
      "3              NaN  \n",
      "4              NaN  \n"
     ]
    }
   ],
   "source": [
    "#check the head\n",
    "print(store.head())"
   ]
  },
  {
   "cell_type": "code",
   "execution_count": 171,
   "id": "ee16f07b",
   "metadata": {},
   "outputs": [
    {
     "name": "stdout",
     "output_type": "stream",
     "text": [
      "      Store StoreType Assortment  CompetitionDistance  \\\n",
      "1110   1111         a          a               1900.0   \n",
      "1111   1112         c          c               1880.0   \n",
      "1112   1113         a          c               9260.0   \n",
      "1113   1114         a          c                870.0   \n",
      "1114   1115         d          c               5350.0   \n",
      "\n",
      "      CompetitionOpenSinceMonth  CompetitionOpenSinceYear  Promo2  \\\n",
      "1110                        6.0                    2014.0       1   \n",
      "1111                        4.0                    2006.0       0   \n",
      "1112                        NaN                       NaN       0   \n",
      "1113                        NaN                       NaN       0   \n",
      "1114                        NaN                       NaN       1   \n",
      "\n",
      "      Promo2SinceWeek  Promo2SinceYear     PromoInterval  \n",
      "1110             31.0           2013.0   Jan,Apr,Jul,Oct  \n",
      "1111              NaN              NaN               NaN  \n",
      "1112              NaN              NaN               NaN  \n",
      "1113              NaN              NaN               NaN  \n",
      "1114             22.0           2012.0  Mar,Jun,Sept,Dec  \n"
     ]
    }
   ],
   "source": [
    "#check the tail\n",
    "print(store.tail())"
   ]
  },
  {
   "cell_type": "code",
   "execution_count": 172,
   "id": "48af6282",
   "metadata": {},
   "outputs": [
    {
     "name": "stdout",
     "output_type": "stream",
     "text": [
      "NANs for individual columns\n",
      "---------------------------\n"
     ]
    },
    {
     "data": {
      "text/plain": [
       "[('Promo2SinceWeek', 544),\n",
       " ('Promo2SinceYear', 544),\n",
       " ('PromoInterval', 544),\n",
       " ('CompetitionOpenSinceMonth', 354),\n",
       " ('CompetitionOpenSinceYear', 354),\n",
       " ('CompetitionDistance', 3),\n",
       " ('Store', 0),\n",
       " ('StoreType', 0),\n",
       " ('Assortment', 0),\n",
       " ('Promo2', 0)]"
      ]
     },
     "execution_count": 172,
     "metadata": {},
     "output_type": "execute_result"
    }
   ],
   "source": [
    "#now check the missing values\n",
    "print(\"NANs for individual columns\")\n",
    "print(\"---------------------------\")\n",
    "from collections import Counter\n",
    "x = {colname : store[colname].isnull().sum() for colname in store.columns}\n",
    "Counter(x).most_common()"
   ]
  },
  {
   "cell_type": "code",
   "execution_count": 173,
   "id": "b1d899fb",
   "metadata": {},
   "outputs": [
    {
     "data": {
      "text/plain": [
       "Store                          int64\n",
       "StoreType                     object\n",
       "Assortment                    object\n",
       "CompetitionDistance          float64\n",
       "CompetitionOpenSinceMonth    float64\n",
       "CompetitionOpenSinceYear     float64\n",
       "Promo2                         int64\n",
       "Promo2SinceWeek              float64\n",
       "Promo2SinceYear              float64\n",
       "PromoInterval                 object\n",
       "dtype: object"
      ]
     },
     "execution_count": 173,
     "metadata": {},
     "output_type": "execute_result"
    }
   ],
   "source": [
    "store.dtypes"
   ]
  },
  {
   "cell_type": "code",
   "execution_count": 174,
   "id": "97832e14",
   "metadata": {},
   "outputs": [],
   "source": [
    "#If there is no promotion, then the corresponding columns should have zero values.\n",
    "store.loc[store['Promo2'] == 0, ['Promo2SinceWeek', 'Promo2SinceYear', 'PromoInterval']] = 0"
   ]
  },
  {
   "cell_type": "code",
   "execution_count": 175,
   "id": "f15d7683",
   "metadata": {},
   "outputs": [],
   "source": [
    "store.loc[store['Promo2'] != 0, 'Promo2SinceWeek'] = store['Promo2SinceWeek'].max() - store.loc[store['Promo2'] != 0, 'Promo2SinceWeek']\n",
    "store.loc[store['Promo2'] != 0, 'Promo2SinceYear'] = store['Promo2SinceYear'].max() - store.loc[store['Promo2'] != 0, 'Promo2SinceYear']\n"
   ]
  },
  {
   "cell_type": "code",
   "execution_count": 176,
   "id": "b3238f19",
   "metadata": {},
   "outputs": [],
   "source": [
    "#Function for converting objects to different levels\n",
    "def factor_to_integer(df, colname, start_value=0):\n",
    "    while df[colname].dtype == object:\n",
    "        myval = start_value # factor starts at \"start_value\".\n",
    "        for sval in df[colname].unique():\n",
    "            df.loc[df[colname] == sval, colname] = myval\n",
    "            myval += 1\n",
    "        df[colname] = df[colname].astype(int, copy=False)\n",
    "    print('levels :', df[colname].unique(), '; data type :', df[colname].dtype)"
   ]
  },
  {
   "cell_type": "code",
   "execution_count": 177,
   "id": "b73dc4f1",
   "metadata": {},
   "outputs": [
    {
     "name": "stdout",
     "output_type": "stream",
     "text": [
      "levels : [0 1 2 3] ; data type : int64\n"
     ]
    }
   ],
   "source": [
    "factor_to_integer(store, 'PromoInterval', start_value=0)"
   ]
  },
  {
   "cell_type": "code",
   "execution_count": 178,
   "id": "a233c99d",
   "metadata": {},
   "outputs": [
    {
     "name": "stdout",
     "output_type": "stream",
     "text": [
      "Store                          int64\n",
      "StoreType                     object\n",
      "Assortment                    object\n",
      "CompetitionDistance          float64\n",
      "CompetitionOpenSinceMonth    float64\n",
      "CompetitionOpenSinceYear     float64\n",
      "Promo2                         int64\n",
      "Promo2SinceWeek              float64\n",
      "Promo2SinceYear              float64\n",
      "PromoInterval                  int64\n",
      "dtype: object\n"
     ]
    }
   ],
   "source": [
    "#now again check the datatypes\n",
    "print(store.dtypes)"
   ]
  },
  {
   "cell_type": "code",
   "execution_count": 179,
   "id": "c47a2442",
   "metadata": {},
   "outputs": [
    {
     "name": "stdout",
     "output_type": "stream",
     "text": [
      "levels : [0 1 2 3] ; data type : int64\n",
      "levels : [0 1 2] ; data type : int64\n"
     ]
    }
   ],
   "source": [
    "#change the categorical values of storetype and assortment into integers\n",
    "factor_to_integer(store, 'StoreType')\n",
    "factor_to_integer(store, 'Assortment')"
   ]
  },
  {
   "cell_type": "code",
   "execution_count": 180,
   "id": "6a5816cd",
   "metadata": {},
   "outputs": [
    {
     "name": "stdout",
     "output_type": "stream",
     "text": [
      "Store                          int64\n",
      "StoreType                      int64\n",
      "Assortment                     int64\n",
      "CompetitionDistance          float64\n",
      "CompetitionOpenSinceMonth    float64\n",
      "CompetitionOpenSinceYear     float64\n",
      "Promo2                         int64\n",
      "Promo2SinceWeek              float64\n",
      "Promo2SinceYear              float64\n",
      "PromoInterval                  int64\n",
      "dtype: object\n"
     ]
    }
   ],
   "source": [
    "#again check the datatypes\n",
    "print(store.dtypes)"
   ]
  },
  {
   "cell_type": "code",
   "execution_count": 181,
   "id": "178c2abd",
   "metadata": {},
   "outputs": [
    {
     "name": "stdout",
     "output_type": "stream",
     "text": [
      "NANs for individual columns\n",
      "---------------------------\n"
     ]
    },
    {
     "data": {
      "text/plain": [
       "[('CompetitionOpenSinceMonth', 354),\n",
       " ('CompetitionOpenSinceYear', 354),\n",
       " ('CompetitionDistance', 3),\n",
       " ('Store', 0),\n",
       " ('StoreType', 0),\n",
       " ('Assortment', 0),\n",
       " ('Promo2', 0),\n",
       " ('Promo2SinceWeek', 0),\n",
       " ('Promo2SinceYear', 0),\n",
       " ('PromoInterval', 0)]"
      ]
     },
     "execution_count": 181,
     "metadata": {},
     "output_type": "execute_result"
    }
   ],
   "source": [
    "#again check that if there is any missing value\n",
    "print(\"NANs for individual columns\")\n",
    "print(\"---------------------------\")\n",
    "from collections import Counter\n",
    "x = {colname : store[colname].isnull().sum() for colname in store.columns}\n",
    "Counter(x).most_common()"
   ]
  },
  {
   "cell_type": "code",
   "execution_count": 182,
   "id": "18a86376",
   "metadata": {},
   "outputs": [],
   "source": [
    "#Fill these missing values using sklearn with the mean of that column\n",
    "from sklearn.impute import SimpleImputer\n",
    "imputer = SimpleImputer(missing_values=np.nan, strategy='mean').fit(store)\n",
    "store_imputed = imputer.transform(store)"
   ]
  },
  {
   "cell_type": "code",
   "execution_count": 183,
   "id": "814c4fe3",
   "metadata": {},
   "outputs": [],
   "source": [
    "store2 = pd.DataFrame(store_imputed, columns=store.columns.values)"
   ]
  },
  {
   "cell_type": "code",
   "execution_count": 184,
   "id": "2f3cbfd7",
   "metadata": {},
   "outputs": [
    {
     "name": "stdout",
     "output_type": "stream",
     "text": [
      "NANs for individual columns\n",
      "---------------------------\n"
     ]
    },
    {
     "data": {
      "text/plain": [
       "[('Store', 0),\n",
       " ('StoreType', 0),\n",
       " ('Assortment', 0),\n",
       " ('CompetitionDistance', 0),\n",
       " ('CompetitionOpenSinceMonth', 0),\n",
       " ('CompetitionOpenSinceYear', 0),\n",
       " ('Promo2', 0),\n",
       " ('Promo2SinceWeek', 0),\n",
       " ('Promo2SinceYear', 0),\n",
       " ('PromoInterval', 0)]"
      ]
     },
     "execution_count": 184,
     "metadata": {},
     "output_type": "execute_result"
    }
   ],
   "source": [
    "#Again check for the missing values\n",
    "print(\"NANs for individual columns\")\n",
    "print(\"---------------------------\")\n",
    "from collections import Counter\n",
    "x = {colname : store2[colname].isnull().sum() for colname in store2.columns}\n",
    "Counter(x).most_common()"
   ]
  },
  {
   "cell_type": "code",
   "execution_count": 185,
   "id": "e4f85741",
   "metadata": {},
   "outputs": [
    {
     "name": "stdout",
     "output_type": "stream",
     "text": [
      "       Store  StoreType  Assortment  CompetitionDistance  \\\n",
      "1110  1111.0        1.0         0.0               1900.0   \n",
      "1111  1112.0        0.0         1.0               1880.0   \n",
      "1112  1113.0        1.0         1.0               9260.0   \n",
      "1113  1114.0        1.0         1.0                870.0   \n",
      "1114  1115.0        2.0         1.0               5350.0   \n",
      "\n",
      "      CompetitionOpenSinceMonth  CompetitionOpenSinceYear  Promo2  \\\n",
      "1110                   6.000000                  1.000000     1.0   \n",
      "1111                   8.000000                  9.000000     0.0   \n",
      "1112                   4.775296                  6.331143     0.0   \n",
      "1113                   4.775296                  6.331143     0.0   \n",
      "1114                   4.775296                  6.331143     1.0   \n",
      "\n",
      "      Promo2SinceWeek  Promo2SinceYear  PromoInterval  \n",
      "1110             19.0              2.0            1.0  \n",
      "1111              0.0              0.0            0.0  \n",
      "1112              0.0              0.0            0.0  \n",
      "1113              0.0              0.0            0.0  \n",
      "1114             28.0              3.0            3.0  \n"
     ]
    }
   ],
   "source": [
    "store2['CompetitionOpenSinceMonth'] = store2['CompetitionOpenSinceMonth'].max() - store2['CompetitionOpenSinceMonth']\n",
    "store2['CompetitionOpenSinceYear'] = store2['CompetitionOpenSinceYear'].max() - store2['CompetitionOpenSinceYear']\n",
    "print(store2.tail())"
   ]
  },
  {
   "cell_type": "code",
   "execution_count": 186,
   "id": "753fa041",
   "metadata": {},
   "outputs": [
    {
     "data": {
      "text/plain": [
       "0"
      ]
     },
     "execution_count": 186,
     "metadata": {},
     "output_type": "execute_result"
    }
   ],
   "source": [
    "#Now check weather the store column is same in both in train and store datasets\n",
    "len(store2['Store']) - sum(store2['Store'].isin(train['Store']))"
   ]
  },
  {
   "cell_type": "code",
   "execution_count": 187,
   "id": "7485e075",
   "metadata": {},
   "outputs": [
    {
     "data": {
      "text/plain": [
       "0"
      ]
     },
     "execution_count": 187,
     "metadata": {},
     "output_type": "execute_result"
    }
   ],
   "source": [
    "#check weather there are same stores in train and store\n",
    "StoreStore = pd.Series(store2['Store']) \n",
    "StoreTrain = pd.Series(train['Store'])\n",
    "sum(StoreTrain.isin(StoreStore) == False)"
   ]
  },
  {
   "cell_type": "markdown",
   "id": "49c7e6da",
   "metadata": {},
   "source": [
    "# Now merge train and store datasets"
   ]
  },
  {
   "cell_type": "code",
   "execution_count": 212,
   "id": "8261f29e",
   "metadata": {},
   "outputs": [],
   "source": [
    "train_store = pd.merge(train, store2, how = 'left', on='Store')\n",
    "#left: use only keys from left frame, similar to a SQL left outer join; preserve key order.\n",
    "#Column or index level names to join on. These must be found in both DataFrames. \n",
    "#If on is None and not merging on indexes then this defaults to the intersection of \n",
    "#the columns in both DataFrames."
   ]
  },
  {
   "cell_type": "code",
   "execution_count": 189,
   "id": "dd492d95",
   "metadata": {},
   "outputs": [
    {
     "data": {
      "text/html": [
       "<div>\n",
       "<style scoped>\n",
       "    .dataframe tbody tr th:only-of-type {\n",
       "        vertical-align: middle;\n",
       "    }\n",
       "\n",
       "    .dataframe tbody tr th {\n",
       "        vertical-align: top;\n",
       "    }\n",
       "\n",
       "    .dataframe thead th {\n",
       "        text-align: right;\n",
       "    }\n",
       "</style>\n",
       "<table border=\"1\" class=\"dataframe\">\n",
       "  <thead>\n",
       "    <tr style=\"text-align: right;\">\n",
       "      <th></th>\n",
       "      <th>Store</th>\n",
       "      <th>DayOfWeek</th>\n",
       "      <th>Date</th>\n",
       "      <th>Year</th>\n",
       "      <th>Month</th>\n",
       "      <th>Customers</th>\n",
       "      <th>Open</th>\n",
       "      <th>Promo</th>\n",
       "      <th>StateHoliday</th>\n",
       "      <th>SchoolHoliday</th>\n",
       "      <th>Sales</th>\n",
       "      <th>StoreType</th>\n",
       "      <th>Assortment</th>\n",
       "      <th>CompetitionDistance</th>\n",
       "      <th>CompetitionOpenSinceMonth</th>\n",
       "      <th>CompetitionOpenSinceYear</th>\n",
       "      <th>Promo2</th>\n",
       "      <th>Promo2SinceWeek</th>\n",
       "      <th>Promo2SinceYear</th>\n",
       "      <th>PromoInterval</th>\n",
       "    </tr>\n",
       "  </thead>\n",
       "  <tbody>\n",
       "    <tr>\n",
       "      <th>0</th>\n",
       "      <td>1</td>\n",
       "      <td>5</td>\n",
       "      <td>2015-07-31</td>\n",
       "      <td>2015</td>\n",
       "      <td>7</td>\n",
       "      <td>555</td>\n",
       "      <td>1</td>\n",
       "      <td>1</td>\n",
       "      <td>0</td>\n",
       "      <td>1</td>\n",
       "      <td>5263</td>\n",
       "      <td>0.0</td>\n",
       "      <td>0.0</td>\n",
       "      <td>1270.0</td>\n",
       "      <td>3.0</td>\n",
       "      <td>7.0</td>\n",
       "      <td>0.0</td>\n",
       "      <td>0.0</td>\n",
       "      <td>0.0</td>\n",
       "      <td>0.0</td>\n",
       "    </tr>\n",
       "    <tr>\n",
       "      <th>1</th>\n",
       "      <td>2</td>\n",
       "      <td>5</td>\n",
       "      <td>2015-07-31</td>\n",
       "      <td>2015</td>\n",
       "      <td>7</td>\n",
       "      <td>625</td>\n",
       "      <td>1</td>\n",
       "      <td>1</td>\n",
       "      <td>0</td>\n",
       "      <td>1</td>\n",
       "      <td>6064</td>\n",
       "      <td>1.0</td>\n",
       "      <td>0.0</td>\n",
       "      <td>570.0</td>\n",
       "      <td>1.0</td>\n",
       "      <td>8.0</td>\n",
       "      <td>1.0</td>\n",
       "      <td>37.0</td>\n",
       "      <td>5.0</td>\n",
       "      <td>1.0</td>\n",
       "    </tr>\n",
       "    <tr>\n",
       "      <th>2</th>\n",
       "      <td>3</td>\n",
       "      <td>5</td>\n",
       "      <td>2015-07-31</td>\n",
       "      <td>2015</td>\n",
       "      <td>7</td>\n",
       "      <td>821</td>\n",
       "      <td>1</td>\n",
       "      <td>1</td>\n",
       "      <td>0</td>\n",
       "      <td>1</td>\n",
       "      <td>8314</td>\n",
       "      <td>1.0</td>\n",
       "      <td>0.0</td>\n",
       "      <td>14130.0</td>\n",
       "      <td>0.0</td>\n",
       "      <td>9.0</td>\n",
       "      <td>1.0</td>\n",
       "      <td>36.0</td>\n",
       "      <td>4.0</td>\n",
       "      <td>1.0</td>\n",
       "    </tr>\n",
       "    <tr>\n",
       "      <th>3</th>\n",
       "      <td>4</td>\n",
       "      <td>5</td>\n",
       "      <td>2015-07-31</td>\n",
       "      <td>2015</td>\n",
       "      <td>7</td>\n",
       "      <td>1498</td>\n",
       "      <td>1</td>\n",
       "      <td>1</td>\n",
       "      <td>0</td>\n",
       "      <td>1</td>\n",
       "      <td>13995</td>\n",
       "      <td>0.0</td>\n",
       "      <td>1.0</td>\n",
       "      <td>620.0</td>\n",
       "      <td>3.0</td>\n",
       "      <td>6.0</td>\n",
       "      <td>0.0</td>\n",
       "      <td>0.0</td>\n",
       "      <td>0.0</td>\n",
       "      <td>0.0</td>\n",
       "    </tr>\n",
       "    <tr>\n",
       "      <th>4</th>\n",
       "      <td>5</td>\n",
       "      <td>5</td>\n",
       "      <td>2015-07-31</td>\n",
       "      <td>2015</td>\n",
       "      <td>7</td>\n",
       "      <td>559</td>\n",
       "      <td>1</td>\n",
       "      <td>1</td>\n",
       "      <td>0</td>\n",
       "      <td>1</td>\n",
       "      <td>4822</td>\n",
       "      <td>1.0</td>\n",
       "      <td>0.0</td>\n",
       "      <td>29910.0</td>\n",
       "      <td>8.0</td>\n",
       "      <td>0.0</td>\n",
       "      <td>0.0</td>\n",
       "      <td>0.0</td>\n",
       "      <td>0.0</td>\n",
       "      <td>0.0</td>\n",
       "    </tr>\n",
       "  </tbody>\n",
       "</table>\n",
       "</div>"
      ],
      "text/plain": [
       "   Store  DayOfWeek       Date  Year  Month  Customers  Open  Promo  \\\n",
       "0      1          5 2015-07-31  2015      7        555     1      1   \n",
       "1      2          5 2015-07-31  2015      7        625     1      1   \n",
       "2      3          5 2015-07-31  2015      7        821     1      1   \n",
       "3      4          5 2015-07-31  2015      7       1498     1      1   \n",
       "4      5          5 2015-07-31  2015      7        559     1      1   \n",
       "\n",
       "   StateHoliday  SchoolHoliday  Sales  StoreType  Assortment  \\\n",
       "0             0              1   5263        0.0         0.0   \n",
       "1             0              1   6064        1.0         0.0   \n",
       "2             0              1   8314        1.0         0.0   \n",
       "3             0              1  13995        0.0         1.0   \n",
       "4             0              1   4822        1.0         0.0   \n",
       "\n",
       "   CompetitionDistance  CompetitionOpenSinceMonth  CompetitionOpenSinceYear  \\\n",
       "0               1270.0                        3.0                       7.0   \n",
       "1                570.0                        1.0                       8.0   \n",
       "2              14130.0                        0.0                       9.0   \n",
       "3                620.0                        3.0                       6.0   \n",
       "4              29910.0                        8.0                       0.0   \n",
       "\n",
       "   Promo2  Promo2SinceWeek  Promo2SinceYear  PromoInterval  \n",
       "0     0.0              0.0              0.0            0.0  \n",
       "1     1.0             37.0              5.0            1.0  \n",
       "2     1.0             36.0              4.0            1.0  \n",
       "3     0.0              0.0              0.0            0.0  \n",
       "4     0.0              0.0              0.0            0.0  "
      ]
     },
     "execution_count": 189,
     "metadata": {},
     "output_type": "execute_result"
    }
   ],
   "source": [
    "train_store.head()"
   ]
  },
  {
   "cell_type": "markdown",
   "id": "61c61b19",
   "metadata": {},
   "source": [
    "# Merge test and store"
   ]
  },
  {
   "cell_type": "code",
   "execution_count": 190,
   "id": "1b069fd4",
   "metadata": {},
   "outputs": [],
   "source": [
    "test_store = test.reset_index().merge(store2, how = 'left', on='Store').set_index('Id')"
   ]
  },
  {
   "cell_type": "code",
   "execution_count": 191,
   "id": "ae4a872f",
   "metadata": {},
   "outputs": [
    {
     "data": {
      "text/html": [
       "<div>\n",
       "<style scoped>\n",
       "    .dataframe tbody tr th:only-of-type {\n",
       "        vertical-align: middle;\n",
       "    }\n",
       "\n",
       "    .dataframe tbody tr th {\n",
       "        vertical-align: top;\n",
       "    }\n",
       "\n",
       "    .dataframe thead th {\n",
       "        text-align: right;\n",
       "    }\n",
       "</style>\n",
       "<table border=\"1\" class=\"dataframe\">\n",
       "  <thead>\n",
       "    <tr style=\"text-align: right;\">\n",
       "      <th></th>\n",
       "      <th>Store</th>\n",
       "      <th>DayOfWeek</th>\n",
       "      <th>Date</th>\n",
       "      <th>Year</th>\n",
       "      <th>Month</th>\n",
       "      <th>Open</th>\n",
       "      <th>Promo</th>\n",
       "      <th>StateHoliday</th>\n",
       "      <th>SchoolHoliday</th>\n",
       "      <th>StoreType</th>\n",
       "      <th>Assortment</th>\n",
       "      <th>CompetitionDistance</th>\n",
       "      <th>CompetitionOpenSinceMonth</th>\n",
       "      <th>CompetitionOpenSinceYear</th>\n",
       "      <th>Promo2</th>\n",
       "      <th>Promo2SinceWeek</th>\n",
       "      <th>Promo2SinceYear</th>\n",
       "      <th>PromoInterval</th>\n",
       "    </tr>\n",
       "    <tr>\n",
       "      <th>Id</th>\n",
       "      <th></th>\n",
       "      <th></th>\n",
       "      <th></th>\n",
       "      <th></th>\n",
       "      <th></th>\n",
       "      <th></th>\n",
       "      <th></th>\n",
       "      <th></th>\n",
       "      <th></th>\n",
       "      <th></th>\n",
       "      <th></th>\n",
       "      <th></th>\n",
       "      <th></th>\n",
       "      <th></th>\n",
       "      <th></th>\n",
       "      <th></th>\n",
       "      <th></th>\n",
       "      <th></th>\n",
       "    </tr>\n",
       "  </thead>\n",
       "  <tbody>\n",
       "    <tr>\n",
       "      <th>1</th>\n",
       "      <td>1</td>\n",
       "      <td>4</td>\n",
       "      <td>2015-09-17</td>\n",
       "      <td>2015</td>\n",
       "      <td>9</td>\n",
       "      <td>1.0</td>\n",
       "      <td>1</td>\n",
       "      <td>0</td>\n",
       "      <td>0</td>\n",
       "      <td>0.0</td>\n",
       "      <td>0.0</td>\n",
       "      <td>1270.0</td>\n",
       "      <td>3.0</td>\n",
       "      <td>7.0</td>\n",
       "      <td>0.0</td>\n",
       "      <td>0.0</td>\n",
       "      <td>0.0</td>\n",
       "      <td>0.0</td>\n",
       "    </tr>\n",
       "    <tr>\n",
       "      <th>2</th>\n",
       "      <td>3</td>\n",
       "      <td>4</td>\n",
       "      <td>2015-09-17</td>\n",
       "      <td>2015</td>\n",
       "      <td>9</td>\n",
       "      <td>1.0</td>\n",
       "      <td>1</td>\n",
       "      <td>0</td>\n",
       "      <td>0</td>\n",
       "      <td>1.0</td>\n",
       "      <td>0.0</td>\n",
       "      <td>14130.0</td>\n",
       "      <td>0.0</td>\n",
       "      <td>9.0</td>\n",
       "      <td>1.0</td>\n",
       "      <td>36.0</td>\n",
       "      <td>4.0</td>\n",
       "      <td>1.0</td>\n",
       "    </tr>\n",
       "    <tr>\n",
       "      <th>3</th>\n",
       "      <td>7</td>\n",
       "      <td>4</td>\n",
       "      <td>2015-09-17</td>\n",
       "      <td>2015</td>\n",
       "      <td>9</td>\n",
       "      <td>1.0</td>\n",
       "      <td>1</td>\n",
       "      <td>0</td>\n",
       "      <td>0</td>\n",
       "      <td>1.0</td>\n",
       "      <td>1.0</td>\n",
       "      <td>24000.0</td>\n",
       "      <td>8.0</td>\n",
       "      <td>2.0</td>\n",
       "      <td>0.0</td>\n",
       "      <td>0.0</td>\n",
       "      <td>0.0</td>\n",
       "      <td>0.0</td>\n",
       "    </tr>\n",
       "    <tr>\n",
       "      <th>4</th>\n",
       "      <td>8</td>\n",
       "      <td>4</td>\n",
       "      <td>2015-09-17</td>\n",
       "      <td>2015</td>\n",
       "      <td>9</td>\n",
       "      <td>1.0</td>\n",
       "      <td>1</td>\n",
       "      <td>0</td>\n",
       "      <td>0</td>\n",
       "      <td>1.0</td>\n",
       "      <td>0.0</td>\n",
       "      <td>7520.0</td>\n",
       "      <td>2.0</td>\n",
       "      <td>1.0</td>\n",
       "      <td>0.0</td>\n",
       "      <td>0.0</td>\n",
       "      <td>0.0</td>\n",
       "      <td>0.0</td>\n",
       "    </tr>\n",
       "    <tr>\n",
       "      <th>5</th>\n",
       "      <td>9</td>\n",
       "      <td>4</td>\n",
       "      <td>2015-09-17</td>\n",
       "      <td>2015</td>\n",
       "      <td>9</td>\n",
       "      <td>1.0</td>\n",
       "      <td>1</td>\n",
       "      <td>0</td>\n",
       "      <td>0</td>\n",
       "      <td>1.0</td>\n",
       "      <td>1.0</td>\n",
       "      <td>2030.0</td>\n",
       "      <td>4.0</td>\n",
       "      <td>15.0</td>\n",
       "      <td>0.0</td>\n",
       "      <td>0.0</td>\n",
       "      <td>0.0</td>\n",
       "      <td>0.0</td>\n",
       "    </tr>\n",
       "  </tbody>\n",
       "</table>\n",
       "</div>"
      ],
      "text/plain": [
       "    Store  DayOfWeek       Date  Year  Month  Open  Promo  StateHoliday  \\\n",
       "Id                                                                        \n",
       "1       1          4 2015-09-17  2015      9   1.0      1             0   \n",
       "2       3          4 2015-09-17  2015      9   1.0      1             0   \n",
       "3       7          4 2015-09-17  2015      9   1.0      1             0   \n",
       "4       8          4 2015-09-17  2015      9   1.0      1             0   \n",
       "5       9          4 2015-09-17  2015      9   1.0      1             0   \n",
       "\n",
       "    SchoolHoliday  StoreType  Assortment  CompetitionDistance  \\\n",
       "Id                                                              \n",
       "1               0        0.0         0.0               1270.0   \n",
       "2               0        1.0         0.0              14130.0   \n",
       "3               0        1.0         1.0              24000.0   \n",
       "4               0        1.0         0.0               7520.0   \n",
       "5               0        1.0         1.0               2030.0   \n",
       "\n",
       "    CompetitionOpenSinceMonth  CompetitionOpenSinceYear  Promo2  \\\n",
       "Id                                                                \n",
       "1                         3.0                       7.0     0.0   \n",
       "2                         0.0                       9.0     1.0   \n",
       "3                         8.0                       2.0     0.0   \n",
       "4                         2.0                       1.0     0.0   \n",
       "5                         4.0                      15.0     0.0   \n",
       "\n",
       "    Promo2SinceWeek  Promo2SinceYear  PromoInterval  \n",
       "Id                                                   \n",
       "1               0.0              0.0            0.0  \n",
       "2              36.0              4.0            1.0  \n",
       "3               0.0              0.0            0.0  \n",
       "4               0.0              0.0            0.0  \n",
       "5               0.0              0.0            0.0  "
      ]
     },
     "execution_count": 191,
     "metadata": {},
     "output_type": "execute_result"
    }
   ],
   "source": [
    "test_store.head()"
   ]
  },
  {
   "cell_type": "code",
   "execution_count": 192,
   "id": "057d833d",
   "metadata": {},
   "outputs": [
    {
     "data": {
      "text/plain": [
       "(41088, 18)"
      ]
     },
     "execution_count": 192,
     "metadata": {},
     "output_type": "execute_result"
    }
   ],
   "source": [
    "test_store.shape"
   ]
  },
  {
   "cell_type": "code",
   "execution_count": 193,
   "id": "c5cb21ce",
   "metadata": {},
   "outputs": [
    {
     "data": {
      "text/plain": [
       "(1006419, 20)"
      ]
     },
     "execution_count": 193,
     "metadata": {},
     "output_type": "execute_result"
    }
   ],
   "source": [
    "train_store.shape"
   ]
  },
  {
   "cell_type": "markdown",
   "id": "450967a6",
   "metadata": {},
   "source": [
    "# Visualization of sales with different factors"
   ]
  },
  {
   "cell_type": "code",
   "execution_count": 194,
   "id": "891b42f7",
   "metadata": {},
   "outputs": [
    {
     "data": {
      "image/png": "[encoded data removed]",
      "text/plain": [
       "<Figure size 432x288 with 4 Axes>"
      ]
     },
     "metadata": {
      "needs_background": "light"
     },
     "output_type": "display_data"
    }
   ],
   "source": [
    "train_store.hist(column='Sales',by='Year',bins=30)\n",
    "plt.show()"
   ]
  },
  {
   "cell_type": "code",
   "execution_count": 195,
   "id": "2e7dfdd2",
   "metadata": {},
   "outputs": [
    {
     "data": {
      "image/png": "[encoded data removed]",
      "text/plain": [
       "<Figure size 432x288 with 12 Axes>"
      ]
     },
     "metadata": {
      "needs_background": "light"
     },
     "output_type": "display_data"
    }
   ],
   "source": [
    "train_store.hist(column='Sales',by='Month',bins=30)\n",
    "plt.show()"
   ]
  },
  {
   "cell_type": "code",
   "execution_count": 196,
   "id": "979ecd7a",
   "metadata": {},
   "outputs": [
    {
     "data": {
      "image/png": "[encoded data removed]",
      "text/plain": [
       "<Figure size 432x288 with 2 Axes>"
      ]
     },
     "metadata": {
      "needs_background": "light"
     },
     "output_type": "display_data"
    }
   ],
   "source": [
    "train_store.hist(column='Sales',by='StateHoliday',bins=30)\n",
    "plt.show()"
   ]
  },
  {
   "cell_type": "code",
   "execution_count": 197,
   "id": "288b4fea",
   "metadata": {},
   "outputs": [
    {
     "data": {
      "image/png": "[encoded data removed]",
      "text/plain": [
       "<Figure size 432x288 with 2 Axes>"
      ]
     },
     "metadata": {
      "needs_background": "light"
     },
     "output_type": "display_data"
    }
   ],
   "source": [
    "train_store.hist(column='Sales',by='SchoolHoliday',bins=30)\n",
    "plt.show()"
   ]
  },
  {
   "cell_type": "code",
   "execution_count": 198,
   "id": "c41a2bf6",
   "metadata": {},
   "outputs": [
    {
     "data": {
      "image/png": "[encoded data removed]",
      "text/plain": [
       "<Figure size 432x288 with 9 Axes>"
      ]
     },
     "metadata": {
      "needs_background": "light"
     },
     "output_type": "display_data"
    }
   ],
   "source": [
    "train_store.hist(column='Sales',by='DayOfWeek',bins=30)\n",
    "plt.show()"
   ]
  },
  {
   "cell_type": "code",
   "execution_count": 199,
   "id": "67e58005",
   "metadata": {},
   "outputs": [
    {
     "data": {
      "image/png": "[encoded data removed]",
      "text/plain": [
       "<Figure size 432x288 with 2 Axes>"
      ]
     },
     "metadata": {
      "needs_background": "light"
     },
     "output_type": "display_data"
    }
   ],
   "source": [
    "train_store.hist(column='Sales',by='Promo',bins=30)\n",
    "plt.show()"
   ]
  },
  {
   "cell_type": "code",
   "execution_count": 200,
   "id": "eb49b039",
   "metadata": {},
   "outputs": [],
   "source": [
    "#Modelig"
   ]
  },
  {
   "cell_type": "code",
   "execution_count": 201,
   "id": "56cea40c",
   "metadata": {},
   "outputs": [
    {
     "data": {
      "text/html": [
       "<div>\n",
       "<style scoped>\n",
       "    .dataframe tbody tr th:only-of-type {\n",
       "        vertical-align: middle;\n",
       "    }\n",
       "\n",
       "    .dataframe tbody tr th {\n",
       "        vertical-align: top;\n",
       "    }\n",
       "\n",
       "    .dataframe thead th {\n",
       "        text-align: right;\n",
       "    }\n",
       "</style>\n",
       "<table border=\"1\" class=\"dataframe\">\n",
       "  <thead>\n",
       "    <tr style=\"text-align: right;\">\n",
       "      <th></th>\n",
       "      <th>Store</th>\n",
       "      <th>DayOfWeek</th>\n",
       "      <th>Year</th>\n",
       "      <th>Month</th>\n",
       "      <th>Open</th>\n",
       "      <th>Promo</th>\n",
       "      <th>StateHoliday</th>\n",
       "      <th>SchoolHoliday</th>\n",
       "      <th>Sales</th>\n",
       "      <th>StoreType</th>\n",
       "      <th>Assortment</th>\n",
       "      <th>CompetitionDistance</th>\n",
       "      <th>CompetitionOpenSinceMonth</th>\n",
       "      <th>CompetitionOpenSinceYear</th>\n",
       "      <th>Promo2</th>\n",
       "      <th>Promo2SinceWeek</th>\n",
       "      <th>Promo2SinceYear</th>\n",
       "      <th>PromoInterval</th>\n",
       "    </tr>\n",
       "  </thead>\n",
       "  <tbody>\n",
       "    <tr>\n",
       "      <th>0</th>\n",
       "      <td>1</td>\n",
       "      <td>5</td>\n",
       "      <td>0</td>\n",
       "      <td>7</td>\n",
       "      <td>1</td>\n",
       "      <td>1</td>\n",
       "      <td>0</td>\n",
       "      <td>1</td>\n",
       "      <td>5263</td>\n",
       "      <td>0.0</td>\n",
       "      <td>0.0</td>\n",
       "      <td>1270.0</td>\n",
       "      <td>3.0</td>\n",
       "      <td>7.0</td>\n",
       "      <td>0.0</td>\n",
       "      <td>0.0</td>\n",
       "      <td>0.0</td>\n",
       "      <td>0.0</td>\n",
       "    </tr>\n",
       "    <tr>\n",
       "      <th>1</th>\n",
       "      <td>2</td>\n",
       "      <td>5</td>\n",
       "      <td>0</td>\n",
       "      <td>7</td>\n",
       "      <td>1</td>\n",
       "      <td>1</td>\n",
       "      <td>0</td>\n",
       "      <td>1</td>\n",
       "      <td>6064</td>\n",
       "      <td>1.0</td>\n",
       "      <td>0.0</td>\n",
       "      <td>570.0</td>\n",
       "      <td>1.0</td>\n",
       "      <td>8.0</td>\n",
       "      <td>1.0</td>\n",
       "      <td>37.0</td>\n",
       "      <td>5.0</td>\n",
       "      <td>1.0</td>\n",
       "    </tr>\n",
       "    <tr>\n",
       "      <th>2</th>\n",
       "      <td>3</td>\n",
       "      <td>5</td>\n",
       "      <td>0</td>\n",
       "      <td>7</td>\n",
       "      <td>1</td>\n",
       "      <td>1</td>\n",
       "      <td>0</td>\n",
       "      <td>1</td>\n",
       "      <td>8314</td>\n",
       "      <td>1.0</td>\n",
       "      <td>0.0</td>\n",
       "      <td>14130.0</td>\n",
       "      <td>0.0</td>\n",
       "      <td>9.0</td>\n",
       "      <td>1.0</td>\n",
       "      <td>36.0</td>\n",
       "      <td>4.0</td>\n",
       "      <td>1.0</td>\n",
       "    </tr>\n",
       "    <tr>\n",
       "      <th>3</th>\n",
       "      <td>4</td>\n",
       "      <td>5</td>\n",
       "      <td>0</td>\n",
       "      <td>7</td>\n",
       "      <td>1</td>\n",
       "      <td>1</td>\n",
       "      <td>0</td>\n",
       "      <td>1</td>\n",
       "      <td>13995</td>\n",
       "      <td>0.0</td>\n",
       "      <td>1.0</td>\n",
       "      <td>620.0</td>\n",
       "      <td>3.0</td>\n",
       "      <td>6.0</td>\n",
       "      <td>0.0</td>\n",
       "      <td>0.0</td>\n",
       "      <td>0.0</td>\n",
       "      <td>0.0</td>\n",
       "    </tr>\n",
       "    <tr>\n",
       "      <th>4</th>\n",
       "      <td>5</td>\n",
       "      <td>5</td>\n",
       "      <td>0</td>\n",
       "      <td>7</td>\n",
       "      <td>1</td>\n",
       "      <td>1</td>\n",
       "      <td>0</td>\n",
       "      <td>1</td>\n",
       "      <td>4822</td>\n",
       "      <td>1.0</td>\n",
       "      <td>0.0</td>\n",
       "      <td>29910.0</td>\n",
       "      <td>8.0</td>\n",
       "      <td>0.0</td>\n",
       "      <td>0.0</td>\n",
       "      <td>0.0</td>\n",
       "      <td>0.0</td>\n",
       "      <td>0.0</td>\n",
       "    </tr>\n",
       "  </tbody>\n",
       "</table>\n",
       "</div>"
      ],
      "text/plain": [
       "   Store  DayOfWeek  Year  Month  Open  Promo  StateHoliday  SchoolHoliday  \\\n",
       "0      1          5     0      7     1      1             0              1   \n",
       "1      2          5     0      7     1      1             0              1   \n",
       "2      3          5     0      7     1      1             0              1   \n",
       "3      4          5     0      7     1      1             0              1   \n",
       "4      5          5     0      7     1      1             0              1   \n",
       "\n",
       "   Sales  StoreType  Assortment  CompetitionDistance  \\\n",
       "0   5263        0.0         0.0               1270.0   \n",
       "1   6064        1.0         0.0                570.0   \n",
       "2   8314        1.0         0.0              14130.0   \n",
       "3  13995        0.0         1.0                620.0   \n",
       "4   4822        1.0         0.0              29910.0   \n",
       "\n",
       "   CompetitionOpenSinceMonth  CompetitionOpenSinceYear  Promo2  \\\n",
       "0                        3.0                       7.0     0.0   \n",
       "1                        1.0                       8.0     1.0   \n",
       "2                        0.0                       9.0     1.0   \n",
       "3                        3.0                       6.0     0.0   \n",
       "4                        8.0                       0.0     0.0   \n",
       "\n",
       "   Promo2SinceWeek  Promo2SinceYear  PromoInterval  \n",
       "0              0.0              0.0            0.0  \n",
       "1             37.0              5.0            1.0  \n",
       "2             36.0              4.0            1.0  \n",
       "3              0.0              0.0            0.0  \n",
       "4              0.0              0.0            0.0  "
      ]
     },
     "execution_count": 201,
     "metadata": {},
     "output_type": "execute_result"
    }
   ],
   "source": [
    "train_model = train_store.drop(['Customers', 'Date'], axis=1)\n",
    "train_model['Year'] = train_model['Year'].max() - train_model['Year']\n",
    "train_model.head()"
   ]
  },
  {
   "cell_type": "code",
   "execution_count": 202,
   "id": "50f85f25",
   "metadata": {},
   "outputs": [
    {
     "data": {
      "text/html": [
       "<div>\n",
       "<style scoped>\n",
       "    .dataframe tbody tr th:only-of-type {\n",
       "        vertical-align: middle;\n",
       "    }\n",
       "\n",
       "    .dataframe tbody tr th {\n",
       "        vertical-align: top;\n",
       "    }\n",
       "\n",
       "    .dataframe thead th {\n",
       "        text-align: right;\n",
       "    }\n",
       "</style>\n",
       "<table border=\"1\" class=\"dataframe\">\n",
       "  <thead>\n",
       "    <tr style=\"text-align: right;\">\n",
       "      <th></th>\n",
       "      <th>Store</th>\n",
       "      <th>DayOfWeek</th>\n",
       "      <th>Year</th>\n",
       "      <th>Month</th>\n",
       "      <th>Open</th>\n",
       "      <th>Promo</th>\n",
       "      <th>StateHoliday</th>\n",
       "      <th>SchoolHoliday</th>\n",
       "      <th>StoreType</th>\n",
       "      <th>Assortment</th>\n",
       "      <th>CompetitionDistance</th>\n",
       "      <th>CompetitionOpenSinceMonth</th>\n",
       "      <th>CompetitionOpenSinceYear</th>\n",
       "      <th>Promo2</th>\n",
       "      <th>Promo2SinceWeek</th>\n",
       "      <th>Promo2SinceYear</th>\n",
       "      <th>PromoInterval</th>\n",
       "    </tr>\n",
       "    <tr>\n",
       "      <th>Id</th>\n",
       "      <th></th>\n",
       "      <th></th>\n",
       "      <th></th>\n",
       "      <th></th>\n",
       "      <th></th>\n",
       "      <th></th>\n",
       "      <th></th>\n",
       "      <th></th>\n",
       "      <th></th>\n",
       "      <th></th>\n",
       "      <th></th>\n",
       "      <th></th>\n",
       "      <th></th>\n",
       "      <th></th>\n",
       "      <th></th>\n",
       "      <th></th>\n",
       "      <th></th>\n",
       "    </tr>\n",
       "  </thead>\n",
       "  <tbody>\n",
       "    <tr>\n",
       "      <th>1</th>\n",
       "      <td>1</td>\n",
       "      <td>4</td>\n",
       "      <td>0</td>\n",
       "      <td>9</td>\n",
       "      <td>1.0</td>\n",
       "      <td>1</td>\n",
       "      <td>0</td>\n",
       "      <td>0</td>\n",
       "      <td>0.0</td>\n",
       "      <td>0.0</td>\n",
       "      <td>1270.0</td>\n",
       "      <td>3.0</td>\n",
       "      <td>7.0</td>\n",
       "      <td>0.0</td>\n",
       "      <td>0.0</td>\n",
       "      <td>0.0</td>\n",
       "      <td>0.0</td>\n",
       "    </tr>\n",
       "    <tr>\n",
       "      <th>2</th>\n",
       "      <td>3</td>\n",
       "      <td>4</td>\n",
       "      <td>0</td>\n",
       "      <td>9</td>\n",
       "      <td>1.0</td>\n",
       "      <td>1</td>\n",
       "      <td>0</td>\n",
       "      <td>0</td>\n",
       "      <td>1.0</td>\n",
       "      <td>0.0</td>\n",
       "      <td>14130.0</td>\n",
       "      <td>0.0</td>\n",
       "      <td>9.0</td>\n",
       "      <td>1.0</td>\n",
       "      <td>36.0</td>\n",
       "      <td>4.0</td>\n",
       "      <td>1.0</td>\n",
       "    </tr>\n",
       "    <tr>\n",
       "      <th>3</th>\n",
       "      <td>7</td>\n",
       "      <td>4</td>\n",
       "      <td>0</td>\n",
       "      <td>9</td>\n",
       "      <td>1.0</td>\n",
       "      <td>1</td>\n",
       "      <td>0</td>\n",
       "      <td>0</td>\n",
       "      <td>1.0</td>\n",
       "      <td>1.0</td>\n",
       "      <td>24000.0</td>\n",
       "      <td>8.0</td>\n",
       "      <td>2.0</td>\n",
       "      <td>0.0</td>\n",
       "      <td>0.0</td>\n",
       "      <td>0.0</td>\n",
       "      <td>0.0</td>\n",
       "    </tr>\n",
       "    <tr>\n",
       "      <th>4</th>\n",
       "      <td>8</td>\n",
       "      <td>4</td>\n",
       "      <td>0</td>\n",
       "      <td>9</td>\n",
       "      <td>1.0</td>\n",
       "      <td>1</td>\n",
       "      <td>0</td>\n",
       "      <td>0</td>\n",
       "      <td>1.0</td>\n",
       "      <td>0.0</td>\n",
       "      <td>7520.0</td>\n",
       "      <td>2.0</td>\n",
       "      <td>1.0</td>\n",
       "      <td>0.0</td>\n",
       "      <td>0.0</td>\n",
       "      <td>0.0</td>\n",
       "      <td>0.0</td>\n",
       "    </tr>\n",
       "    <tr>\n",
       "      <th>5</th>\n",
       "      <td>9</td>\n",
       "      <td>4</td>\n",
       "      <td>0</td>\n",
       "      <td>9</td>\n",
       "      <td>1.0</td>\n",
       "      <td>1</td>\n",
       "      <td>0</td>\n",
       "      <td>0</td>\n",
       "      <td>1.0</td>\n",
       "      <td>1.0</td>\n",
       "      <td>2030.0</td>\n",
       "      <td>4.0</td>\n",
       "      <td>15.0</td>\n",
       "      <td>0.0</td>\n",
       "      <td>0.0</td>\n",
       "      <td>0.0</td>\n",
       "      <td>0.0</td>\n",
       "    </tr>\n",
       "  </tbody>\n",
       "</table>\n",
       "</div>"
      ],
      "text/plain": [
       "    Store  DayOfWeek  Year  Month  Open  Promo  StateHoliday  SchoolHoliday  \\\n",
       "Id                                                                            \n",
       "1       1          4     0      9   1.0      1             0              0   \n",
       "2       3          4     0      9   1.0      1             0              0   \n",
       "3       7          4     0      9   1.0      1             0              0   \n",
       "4       8          4     0      9   1.0      1             0              0   \n",
       "5       9          4     0      9   1.0      1             0              0   \n",
       "\n",
       "    StoreType  Assortment  CompetitionDistance  CompetitionOpenSinceMonth  \\\n",
       "Id                                                                          \n",
       "1         0.0         0.0               1270.0                        3.0   \n",
       "2         1.0         0.0              14130.0                        0.0   \n",
       "3         1.0         1.0              24000.0                        8.0   \n",
       "4         1.0         0.0               7520.0                        2.0   \n",
       "5         1.0         1.0               2030.0                        4.0   \n",
       "\n",
       "    CompetitionOpenSinceYear  Promo2  Promo2SinceWeek  Promo2SinceYear  \\\n",
       "Id                                                                       \n",
       "1                        7.0     0.0              0.0              0.0   \n",
       "2                        9.0     1.0             36.0              4.0   \n",
       "3                        2.0     0.0              0.0              0.0   \n",
       "4                        1.0     0.0              0.0              0.0   \n",
       "5                       15.0     0.0              0.0              0.0   \n",
       "\n",
       "    PromoInterval  \n",
       "Id                 \n",
       "1             0.0  \n",
       "2             1.0  \n",
       "3             0.0  \n",
       "4             0.0  \n",
       "5             0.0  "
      ]
     },
     "execution_count": 202,
     "metadata": {},
     "output_type": "execute_result"
    }
   ],
   "source": [
    "test_model = test_store.drop(['Date'], axis=1)\n",
    "test_model['Year'] = test_model['Year'].max() - test_model['Year']\n",
    "test_model.head()"
   ]
  },
  {
   "cell_type": "code",
   "execution_count": 203,
   "id": "8524cce8",
   "metadata": {},
   "outputs": [
    {
     "data": {
      "text/plain": [
       "(1006419, 18)"
      ]
     },
     "execution_count": 203,
     "metadata": {},
     "output_type": "execute_result"
    }
   ],
   "source": [
    "train_model.shape"
   ]
  },
  {
   "cell_type": "code",
   "execution_count": 204,
   "id": "dc5510f0",
   "metadata": {},
   "outputs": [
    {
     "data": {
      "text/plain": [
       "(41088, 17)"
      ]
     },
     "execution_count": 204,
     "metadata": {},
     "output_type": "execute_result"
    }
   ],
   "source": [
    "test_model.shape"
   ]
  },
  {
   "cell_type": "markdown",
   "id": "0340a6bc",
   "metadata": {},
   "source": [
    "# Put the sales field at the end for the output"
   ]
  },
  {
   "cell_type": "code",
   "execution_count": 205,
   "id": "209c3843",
   "metadata": {},
   "outputs": [],
   "source": [
    "SalesDatafield = train_model['Sales']\n",
    "train_model = train_model.drop(['Sales'], axis=1)\n",
    "train_model['Sales'] = SalesDatafield"
   ]
  },
  {
   "cell_type": "code",
   "execution_count": 207,
   "id": "9e3802f6",
   "metadata": {},
   "outputs": [
    {
     "data": {
      "text/html": [
       "<div>\n",
       "<style scoped>\n",
       "    .dataframe tbody tr th:only-of-type {\n",
       "        vertical-align: middle;\n",
       "    }\n",
       "\n",
       "    .dataframe tbody tr th {\n",
       "        vertical-align: top;\n",
       "    }\n",
       "\n",
       "    .dataframe thead th {\n",
       "        text-align: right;\n",
       "    }\n",
       "</style>\n",
       "<table border=\"1\" class=\"dataframe\">\n",
       "  <thead>\n",
       "    <tr style=\"text-align: right;\">\n",
       "      <th></th>\n",
       "      <th>Store</th>\n",
       "      <th>DayOfWeek</th>\n",
       "      <th>Year</th>\n",
       "      <th>Month</th>\n",
       "      <th>Open</th>\n",
       "      <th>Promo</th>\n",
       "      <th>StateHoliday</th>\n",
       "      <th>SchoolHoliday</th>\n",
       "      <th>StoreType</th>\n",
       "      <th>Assortment</th>\n",
       "      <th>CompetitionDistance</th>\n",
       "      <th>CompetitionOpenSinceMonth</th>\n",
       "      <th>CompetitionOpenSinceYear</th>\n",
       "      <th>Promo2</th>\n",
       "      <th>Promo2SinceWeek</th>\n",
       "      <th>Promo2SinceYear</th>\n",
       "      <th>PromoInterval</th>\n",
       "      <th>Sales</th>\n",
       "    </tr>\n",
       "  </thead>\n",
       "  <tbody>\n",
       "    <tr>\n",
       "      <th>0</th>\n",
       "      <td>1</td>\n",
       "      <td>5</td>\n",
       "      <td>0</td>\n",
       "      <td>7</td>\n",
       "      <td>1</td>\n",
       "      <td>1</td>\n",
       "      <td>0</td>\n",
       "      <td>1</td>\n",
       "      <td>0.0</td>\n",
       "      <td>0.0</td>\n",
       "      <td>1270.0</td>\n",
       "      <td>3.0</td>\n",
       "      <td>7.0</td>\n",
       "      <td>0.0</td>\n",
       "      <td>0.0</td>\n",
       "      <td>0.0</td>\n",
       "      <td>0.0</td>\n",
       "      <td>5263</td>\n",
       "    </tr>\n",
       "    <tr>\n",
       "      <th>1</th>\n",
       "      <td>2</td>\n",
       "      <td>5</td>\n",
       "      <td>0</td>\n",
       "      <td>7</td>\n",
       "      <td>1</td>\n",
       "      <td>1</td>\n",
       "      <td>0</td>\n",
       "      <td>1</td>\n",
       "      <td>1.0</td>\n",
       "      <td>0.0</td>\n",
       "      <td>570.0</td>\n",
       "      <td>1.0</td>\n",
       "      <td>8.0</td>\n",
       "      <td>1.0</td>\n",
       "      <td>37.0</td>\n",
       "      <td>5.0</td>\n",
       "      <td>1.0</td>\n",
       "      <td>6064</td>\n",
       "    </tr>\n",
       "    <tr>\n",
       "      <th>2</th>\n",
       "      <td>3</td>\n",
       "      <td>5</td>\n",
       "      <td>0</td>\n",
       "      <td>7</td>\n",
       "      <td>1</td>\n",
       "      <td>1</td>\n",
       "      <td>0</td>\n",
       "      <td>1</td>\n",
       "      <td>1.0</td>\n",
       "      <td>0.0</td>\n",
       "      <td>14130.0</td>\n",
       "      <td>0.0</td>\n",
       "      <td>9.0</td>\n",
       "      <td>1.0</td>\n",
       "      <td>36.0</td>\n",
       "      <td>4.0</td>\n",
       "      <td>1.0</td>\n",
       "      <td>8314</td>\n",
       "    </tr>\n",
       "    <tr>\n",
       "      <th>3</th>\n",
       "      <td>4</td>\n",
       "      <td>5</td>\n",
       "      <td>0</td>\n",
       "      <td>7</td>\n",
       "      <td>1</td>\n",
       "      <td>1</td>\n",
       "      <td>0</td>\n",
       "      <td>1</td>\n",
       "      <td>0.0</td>\n",
       "      <td>1.0</td>\n",
       "      <td>620.0</td>\n",
       "      <td>3.0</td>\n",
       "      <td>6.0</td>\n",
       "      <td>0.0</td>\n",
       "      <td>0.0</td>\n",
       "      <td>0.0</td>\n",
       "      <td>0.0</td>\n",
       "      <td>13995</td>\n",
       "    </tr>\n",
       "    <tr>\n",
       "      <th>4</th>\n",
       "      <td>5</td>\n",
       "      <td>5</td>\n",
       "      <td>0</td>\n",
       "      <td>7</td>\n",
       "      <td>1</td>\n",
       "      <td>1</td>\n",
       "      <td>0</td>\n",
       "      <td>1</td>\n",
       "      <td>1.0</td>\n",
       "      <td>0.0</td>\n",
       "      <td>29910.0</td>\n",
       "      <td>8.0</td>\n",
       "      <td>0.0</td>\n",
       "      <td>0.0</td>\n",
       "      <td>0.0</td>\n",
       "      <td>0.0</td>\n",
       "      <td>0.0</td>\n",
       "      <td>4822</td>\n",
       "    </tr>\n",
       "  </tbody>\n",
       "</table>\n",
       "</div>"
      ],
      "text/plain": [
       "   Store  DayOfWeek  Year  Month  Open  Promo  StateHoliday  SchoolHoliday  \\\n",
       "0      1          5     0      7     1      1             0              1   \n",
       "1      2          5     0      7     1      1             0              1   \n",
       "2      3          5     0      7     1      1             0              1   \n",
       "3      4          5     0      7     1      1             0              1   \n",
       "4      5          5     0      7     1      1             0              1   \n",
       "\n",
       "   StoreType  Assortment  CompetitionDistance  CompetitionOpenSinceMonth  \\\n",
       "0        0.0         0.0               1270.0                        3.0   \n",
       "1        1.0         0.0                570.0                        1.0   \n",
       "2        1.0         0.0              14130.0                        0.0   \n",
       "3        0.0         1.0                620.0                        3.0   \n",
       "4        1.0         0.0              29910.0                        8.0   \n",
       "\n",
       "   CompetitionOpenSinceYear  Promo2  Promo2SinceWeek  Promo2SinceYear  \\\n",
       "0                       7.0     0.0              0.0              0.0   \n",
       "1                       8.0     1.0             37.0              5.0   \n",
       "2                       9.0     1.0             36.0              4.0   \n",
       "3                       6.0     0.0              0.0              0.0   \n",
       "4                       0.0     0.0              0.0              0.0   \n",
       "\n",
       "   PromoInterval  Sales  \n",
       "0            0.0   5263  \n",
       "1            1.0   6064  \n",
       "2            1.0   8314  \n",
       "3            0.0  13995  \n",
       "4            0.0   4822  "
      ]
     },
     "execution_count": 207,
     "metadata": {},
     "output_type": "execute_result"
    }
   ],
   "source": [
    "train_model.head()"
   ]
  },
  {
   "cell_type": "code",
   "execution_count": 208,
   "id": "d9262cef",
   "metadata": {},
   "outputs": [],
   "source": [
    "#Normalisation of Training dataset for validation"
   ]
  },
  {
   "cell_type": "code",
   "execution_count": 209,
   "id": "b5d7ba9f",
   "metadata": {},
   "outputs": [],
   "source": [
    "summary = train_model.describe()\n",
    "train_normalized = train_model.copy()\n",
    "ncols = len(train_normalized.columns)\n",
    "\n",
    "for i in range(ncols):\n",
    "    mean = summary.iloc[1, i]\n",
    "    sd = summary.iloc[2, i]\n",
    "    train_normalized.iloc[:,i:(i + 1)] = \\\n",
    "        (train_normalized.iloc[:,i:(i + 1)] - mean) / sd\n",
    "sales_normalized = train_normalized['Sales']\n",
    "train_normalized = train_normalized.drop(['Sales'], axis=1)\n",
    "train_normalized['Sales'] = sales_normalized"
   ]
  },
  {
   "cell_type": "code",
   "execution_count": 210,
   "id": "a612a829",
   "metadata": {},
   "outputs": [
    {
     "data": {
      "text/html": [
       "<div>\n",
       "<style scoped>\n",
       "    .dataframe tbody tr th:only-of-type {\n",
       "        vertical-align: middle;\n",
       "    }\n",
       "\n",
       "    .dataframe tbody tr th {\n",
       "        vertical-align: top;\n",
       "    }\n",
       "\n",
       "    .dataframe thead th {\n",
       "        text-align: right;\n",
       "    }\n",
       "</style>\n",
       "<table border=\"1\" class=\"dataframe\">\n",
       "  <thead>\n",
       "    <tr style=\"text-align: right;\">\n",
       "      <th></th>\n",
       "      <th>Store</th>\n",
       "      <th>DayOfWeek</th>\n",
       "      <th>Year</th>\n",
       "      <th>Month</th>\n",
       "      <th>Open</th>\n",
       "      <th>Promo</th>\n",
       "      <th>StateHoliday</th>\n",
       "      <th>SchoolHoliday</th>\n",
       "      <th>StoreType</th>\n",
       "      <th>Assortment</th>\n",
       "      <th>CompetitionDistance</th>\n",
       "      <th>CompetitionOpenSinceMonth</th>\n",
       "      <th>CompetitionOpenSinceYear</th>\n",
       "      <th>Promo2</th>\n",
       "      <th>Promo2SinceWeek</th>\n",
       "      <th>Promo2SinceYear</th>\n",
       "      <th>PromoInterval</th>\n",
       "      <th>Sales</th>\n",
       "    </tr>\n",
       "  </thead>\n",
       "  <tbody>\n",
       "    <tr>\n",
       "      <th>0</th>\n",
       "      <td>-1.731639</td>\n",
       "      <td>0.497609</td>\n",
       "      <td>-1.501199</td>\n",
       "      <td>0.351249</td>\n",
       "      <td>0.438396</td>\n",
       "      <td>1.27117</td>\n",
       "      <td>-0.143333</td>\n",
       "      <td>2.207088</td>\n",
       "      <td>-1.770361</td>\n",
       "      <td>-0.930468</td>\n",
       "      <td>-0.539891</td>\n",
       "      <td>-0.669720</td>\n",
       "      <td>0.138083</td>\n",
       "      <td>-1.001134</td>\n",
       "      <td>-0.802376</td>\n",
       "      <td>-0.810676</td>\n",
       "      <td>-0.824297</td>\n",
       "      <td>-0.149270</td>\n",
       "    </tr>\n",
       "    <tr>\n",
       "      <th>1</th>\n",
       "      <td>-1.728533</td>\n",
       "      <td>0.497609</td>\n",
       "      <td>-1.501199</td>\n",
       "      <td>0.351249</td>\n",
       "      <td>0.438396</td>\n",
       "      <td>1.27117</td>\n",
       "      <td>-0.143333</td>\n",
       "      <td>2.207088</td>\n",
       "      <td>-0.300229</td>\n",
       "      <td>-0.930468</td>\n",
       "      <td>-0.630738</td>\n",
       "      <td>-1.423676</td>\n",
       "      <td>0.340127</td>\n",
       "      <td>0.998866</td>\n",
       "      <td>1.416358</td>\n",
       "      <td>1.683018</td>\n",
       "      <td>0.194891</td>\n",
       "      <td>0.060270</td>\n",
       "    </tr>\n",
       "    <tr>\n",
       "      <th>2</th>\n",
       "      <td>-1.725426</td>\n",
       "      <td>0.497609</td>\n",
       "      <td>-1.501199</td>\n",
       "      <td>0.351249</td>\n",
       "      <td>0.438396</td>\n",
       "      <td>1.27117</td>\n",
       "      <td>-0.143333</td>\n",
       "      <td>2.207088</td>\n",
       "      <td>-0.300229</td>\n",
       "      <td>-0.930468</td>\n",
       "      <td>1.129094</td>\n",
       "      <td>-1.800655</td>\n",
       "      <td>0.542171</td>\n",
       "      <td>0.998866</td>\n",
       "      <td>1.356392</td>\n",
       "      <td>1.184279</td>\n",
       "      <td>0.194891</td>\n",
       "      <td>0.648863</td>\n",
       "    </tr>\n",
       "    <tr>\n",
       "      <th>3</th>\n",
       "      <td>-1.722320</td>\n",
       "      <td>0.497609</td>\n",
       "      <td>-1.501199</td>\n",
       "      <td>0.351249</td>\n",
       "      <td>0.438396</td>\n",
       "      <td>1.27117</td>\n",
       "      <td>-0.143333</td>\n",
       "      <td>2.207088</td>\n",
       "      <td>-1.770361</td>\n",
       "      <td>1.008815</td>\n",
       "      <td>-0.624249</td>\n",
       "      <td>-0.669720</td>\n",
       "      <td>-0.063961</td>\n",
       "      <td>-1.001134</td>\n",
       "      <td>-0.802376</td>\n",
       "      <td>-0.810676</td>\n",
       "      <td>-0.824297</td>\n",
       "      <td>2.134997</td>\n",
       "    </tr>\n",
       "    <tr>\n",
       "      <th>4</th>\n",
       "      <td>-1.719213</td>\n",
       "      <td>0.497609</td>\n",
       "      <td>-1.501199</td>\n",
       "      <td>0.351249</td>\n",
       "      <td>0.438396</td>\n",
       "      <td>1.27117</td>\n",
       "      <td>-0.143333</td>\n",
       "      <td>2.207088</td>\n",
       "      <td>-0.300229</td>\n",
       "      <td>-0.930468</td>\n",
       "      <td>3.177039</td>\n",
       "      <td>1.215170</td>\n",
       "      <td>-1.276224</td>\n",
       "      <td>-1.001134</td>\n",
       "      <td>-0.802376</td>\n",
       "      <td>-0.810676</td>\n",
       "      <td>-0.824297</td>\n",
       "      <td>-0.264634</td>\n",
       "    </tr>\n",
       "  </tbody>\n",
       "</table>\n",
       "</div>"
      ],
      "text/plain": [
       "      Store  DayOfWeek      Year     Month      Open    Promo  StateHoliday  \\\n",
       "0 -1.731639   0.497609 -1.501199  0.351249  0.438396  1.27117     -0.143333   \n",
       "1 -1.728533   0.497609 -1.501199  0.351249  0.438396  1.27117     -0.143333   \n",
       "2 -1.725426   0.497609 -1.501199  0.351249  0.438396  1.27117     -0.143333   \n",
       "3 -1.722320   0.497609 -1.501199  0.351249  0.438396  1.27117     -0.143333   \n",
       "4 -1.719213   0.497609 -1.501199  0.351249  0.438396  1.27117     -0.143333   \n",
       "\n",
       "   SchoolHoliday  StoreType  Assortment  CompetitionDistance  \\\n",
       "0       2.207088  -1.770361   -0.930468            -0.539891   \n",
       "1       2.207088  -0.300229   -0.930468            -0.630738   \n",
       "2       2.207088  -0.300229   -0.930468             1.129094   \n",
       "3       2.207088  -1.770361    1.008815            -0.624249   \n",
       "4       2.207088  -0.300229   -0.930468             3.177039   \n",
       "\n",
       "   CompetitionOpenSinceMonth  CompetitionOpenSinceYear    Promo2  \\\n",
       "0                  -0.669720                  0.138083 -1.001134   \n",
       "1                  -1.423676                  0.340127  0.998866   \n",
       "2                  -1.800655                  0.542171  0.998866   \n",
       "3                  -0.669720                 -0.063961 -1.001134   \n",
       "4                   1.215170                 -1.276224 -1.001134   \n",
       "\n",
       "   Promo2SinceWeek  Promo2SinceYear  PromoInterval     Sales  \n",
       "0        -0.802376        -0.810676      -0.824297 -0.149270  \n",
       "1         1.416358         1.683018       0.194891  0.060270  \n",
       "2         1.356392         1.184279       0.194891  0.648863  \n",
       "3        -0.802376        -0.810676      -0.824297  2.134997  \n",
       "4        -0.802376        -0.810676      -0.824297 -0.264634  "
      ]
     },
     "execution_count": 210,
     "metadata": {},
     "output_type": "execute_result"
    }
   ],
   "source": [
    "train_normalized.head()"
   ]
  },
  {
   "cell_type": "markdown",
   "id": "8f07397e",
   "metadata": {},
   "source": [
    "# Split training data in train and test for cross validation"
   ]
  },
  {
   "cell_type": "code",
   "execution_count": 226,
   "id": "f4da1c70",
   "metadata": {},
   "outputs": [],
   "source": [
    "#TrainTest split on simple train model\n",
    "from sklearn.model_selection import train_test_split\n",
    "X = train_model.drop('Sales', axis=1)\n",
    "Y = train_model['Sales']\n",
    "X_train, X_test, y_train, y_test = train_test_split(X, Y, random_state=0)"
   ]
  },
  {
   "cell_type": "code",
   "execution_count": 229,
   "id": "b974230d",
   "metadata": {},
   "outputs": [
    {
     "data": {
      "text/html": [
       "<div>\n",
       "<style scoped>\n",
       "    .dataframe tbody tr th:only-of-type {\n",
       "        vertical-align: middle;\n",
       "    }\n",
       "\n",
       "    .dataframe tbody tr th {\n",
       "        vertical-align: top;\n",
       "    }\n",
       "\n",
       "    .dataframe thead th {\n",
       "        text-align: right;\n",
       "    }\n",
       "</style>\n",
       "<table border=\"1\" class=\"dataframe\">\n",
       "  <thead>\n",
       "    <tr style=\"text-align: right;\">\n",
       "      <th></th>\n",
       "      <th>Store</th>\n",
       "      <th>DayOfWeek</th>\n",
       "      <th>Year</th>\n",
       "      <th>Month</th>\n",
       "      <th>Open</th>\n",
       "      <th>Promo</th>\n",
       "      <th>StateHoliday</th>\n",
       "      <th>SchoolHoliday</th>\n",
       "      <th>StoreType</th>\n",
       "      <th>Assortment</th>\n",
       "      <th>CompetitionDistance</th>\n",
       "      <th>CompetitionOpenSinceMonth</th>\n",
       "      <th>CompetitionOpenSinceYear</th>\n",
       "      <th>Promo2</th>\n",
       "      <th>Promo2SinceWeek</th>\n",
       "      <th>Promo2SinceYear</th>\n",
       "      <th>PromoInterval</th>\n",
       "    </tr>\n",
       "  </thead>\n",
       "  <tbody>\n",
       "    <tr>\n",
       "      <th>887978</th>\n",
       "      <td>864</td>\n",
       "      <td>5</td>\n",
       "      <td>2</td>\n",
       "      <td>4</td>\n",
       "      <td>1</td>\n",
       "      <td>0</td>\n",
       "      <td>0</td>\n",
       "      <td>0</td>\n",
       "      <td>1.0</td>\n",
       "      <td>0.0</td>\n",
       "      <td>1020.0</td>\n",
       "      <td>2.0</td>\n",
       "      <td>3.0</td>\n",
       "      <td>1.0</td>\n",
       "      <td>5.0</td>\n",
       "      <td>6.0</td>\n",
       "      <td>2.0</td>\n",
       "    </tr>\n",
       "    <tr>\n",
       "      <th>502232</th>\n",
       "      <td>908</td>\n",
       "      <td>3</td>\n",
       "      <td>1</td>\n",
       "      <td>4</td>\n",
       "      <td>1</td>\n",
       "      <td>1</td>\n",
       "      <td>0</td>\n",
       "      <td>0</td>\n",
       "      <td>1.0</td>\n",
       "      <td>0.0</td>\n",
       "      <td>1980.0</td>\n",
       "      <td>5.0</td>\n",
       "      <td>5.0</td>\n",
       "      <td>1.0</td>\n",
       "      <td>13.0</td>\n",
       "      <td>6.0</td>\n",
       "      <td>1.0</td>\n",
       "    </tr>\n",
       "    <tr>\n",
       "      <th>650815</th>\n",
       "      <td>81</td>\n",
       "      <td>7</td>\n",
       "      <td>2</td>\n",
       "      <td>11</td>\n",
       "      <td>0</td>\n",
       "      <td>0</td>\n",
       "      <td>0</td>\n",
       "      <td>0</td>\n",
       "      <td>1.0</td>\n",
       "      <td>0.0</td>\n",
       "      <td>2370.0</td>\n",
       "      <td>9.0</td>\n",
       "      <td>4.0</td>\n",
       "      <td>1.0</td>\n",
       "      <td>10.0</td>\n",
       "      <td>1.0</td>\n",
       "      <td>1.0</td>\n",
       "    </tr>\n",
       "    <tr>\n",
       "      <th>117588</th>\n",
       "      <td>514</td>\n",
       "      <td>5</td>\n",
       "      <td>0</td>\n",
       "      <td>4</td>\n",
       "      <td>1</td>\n",
       "      <td>1</td>\n",
       "      <td>0</td>\n",
       "      <td>0</td>\n",
       "      <td>0.0</td>\n",
       "      <td>1.0</td>\n",
       "      <td>1200.0</td>\n",
       "      <td>5.0</td>\n",
       "      <td>3.0</td>\n",
       "      <td>1.0</td>\n",
       "      <td>23.0</td>\n",
       "      <td>3.0</td>\n",
       "      <td>1.0</td>\n",
       "    </tr>\n",
       "    <tr>\n",
       "      <th>341372</th>\n",
       "      <td>761</td>\n",
       "      <td>6</td>\n",
       "      <td>1</td>\n",
       "      <td>9</td>\n",
       "      <td>1</td>\n",
       "      <td>0</td>\n",
       "      <td>0</td>\n",
       "      <td>0</td>\n",
       "      <td>1.0</td>\n",
       "      <td>0.0</td>\n",
       "      <td>2390.0</td>\n",
       "      <td>3.0</td>\n",
       "      <td>3.0</td>\n",
       "      <td>0.0</td>\n",
       "      <td>0.0</td>\n",
       "      <td>0.0</td>\n",
       "      <td>0.0</td>\n",
       "    </tr>\n",
       "  </tbody>\n",
       "</table>\n",
       "</div>"
      ],
      "text/plain": [
       "        Store  DayOfWeek  Year  Month  Open  Promo  StateHoliday  \\\n",
       "887978    864          5     2      4     1      0             0   \n",
       "502232    908          3     1      4     1      1             0   \n",
       "650815     81          7     2     11     0      0             0   \n",
       "117588    514          5     0      4     1      1             0   \n",
       "341372    761          6     1      9     1      0             0   \n",
       "\n",
       "        SchoolHoliday  StoreType  Assortment  CompetitionDistance  \\\n",
       "887978              0        1.0         0.0               1020.0   \n",
       "502232              0        1.0         0.0               1980.0   \n",
       "650815              0        1.0         0.0               2370.0   \n",
       "117588              0        0.0         1.0               1200.0   \n",
       "341372              0        1.0         0.0               2390.0   \n",
       "\n",
       "        CompetitionOpenSinceMonth  CompetitionOpenSinceYear  Promo2  \\\n",
       "887978                        2.0                       3.0     1.0   \n",
       "502232                        5.0                       5.0     1.0   \n",
       "650815                        9.0                       4.0     1.0   \n",
       "117588                        5.0                       3.0     1.0   \n",
       "341372                        3.0                       3.0     0.0   \n",
       "\n",
       "        Promo2SinceWeek  Promo2SinceYear  PromoInterval  \n",
       "887978              5.0              6.0            2.0  \n",
       "502232             13.0              6.0            1.0  \n",
       "650815             10.0              1.0            1.0  \n",
       "117588             23.0              3.0            1.0  \n",
       "341372              0.0              0.0            0.0  "
      ]
     },
     "execution_count": 229,
     "metadata": {},
     "output_type": "execute_result"
    }
   ],
   "source": [
    "X_train.head()"
   ]
  },
  {
   "cell_type": "code",
   "execution_count": 228,
   "id": "259897b3",
   "metadata": {},
   "outputs": [],
   "source": [
    "#TrainTest split on normalised train model\n",
    "from sklearn.model_selection import train_test_split\n",
    "X_normal = train_normalized.drop('Sales', axis=1)\n",
    "Y_normal = train_normalized['Sales']\n",
    "X_train_normal, X_test_normal, y_train_normal, y_test_normal = train_test_split(X_normal, Y_normal, random_state=0)"
   ]
  },
  {
   "cell_type": "code",
   "execution_count": 225,
   "id": "61fb92a8",
   "metadata": {},
   "outputs": [
    {
     "data": {
      "text/plain": [
       "887978   -0.419761\n",
       "502232   -0.112385\n",
       "650815   -1.526056\n",
       "117588    0.439324\n",
       "341372    0.006381\n",
       "Name: Sales, dtype: float64"
      ]
     },
     "execution_count": 225,
     "metadata": {},
     "output_type": "execute_result"
    }
   ],
   "source": [
    "y_train.head()"
   ]
  },
  {
   "cell_type": "code",
   "execution_count": null,
   "id": "cc110af3",
   "metadata": {},
   "outputs": [],
   "source": []
  }
 ],
 "metadata": {
  "kernelspec": {
   "display_name": "Python 3 (ipykernel)",
   "language": "python",
   "name": "python3"
  },
  "language_info": {
   "codemirror_mode": {
    "name": "ipython",
    "version": 3
   },
   "file_extension": ".py",
   "mimetype": "text/x-python",
   "name": "python",
   "nbconvert_exporter": "python",
   "pygments_lexer": "ipython3",
   "version": "3.9.7"
  }
 },
 "nbformat": 4,
 "nbformat_minor": 5
}
